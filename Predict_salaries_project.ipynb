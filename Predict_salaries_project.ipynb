{
  "cells": [
    {
      "cell_type": "code",
      "execution_count": 1,
      "metadata": {
        "colab": {
          "base_uri": "https://localhost:8080/"
        },
        "id": "EuC4ohiUVOLz",
        "outputId": "706b83b6-dba7-441b-8171-8b7bb2f19723"
      },
      "outputs": [
        {
          "output_type": "stream",
          "name": "stdout",
          "text": [
            "Collecting forex-python\n",
            "  Downloading forex_python-1.8-py3-none-any.whl (8.2 kB)\n",
            "Requirement already satisfied: requests in /usr/local/lib/python3.10/dist-packages (from forex-python) (2.31.0)\n",
            "Collecting simplejson (from forex-python)\n",
            "  Downloading simplejson-3.19.1-cp310-cp310-manylinux_2_5_x86_64.manylinux1_x86_64.manylinux_2_17_x86_64.manylinux2014_x86_64.whl (137 kB)\n",
            "\u001b[2K     \u001b[90m━━━━━━━━━━━━━━━━━━━━━━━━━━━━━━━━━━━━━━━\u001b[0m \u001b[32m137.9/137.9 kB\u001b[0m \u001b[31m3.0 MB/s\u001b[0m eta \u001b[36m0:00:00\u001b[0m\n",
            "\u001b[?25hRequirement already satisfied: charset-normalizer<4,>=2 in /usr/local/lib/python3.10/dist-packages (from requests->forex-python) (3.2.0)\n",
            "Requirement already satisfied: idna<4,>=2.5 in /usr/local/lib/python3.10/dist-packages (from requests->forex-python) (3.4)\n",
            "Requirement already satisfied: urllib3<3,>=1.21.1 in /usr/local/lib/python3.10/dist-packages (from requests->forex-python) (2.0.4)\n",
            "Requirement already satisfied: certifi>=2017.4.17 in /usr/local/lib/python3.10/dist-packages (from requests->forex-python) (2023.7.22)\n",
            "Installing collected packages: simplejson, forex-python\n",
            "Successfully installed forex-python-1.8 simplejson-3.19.1\n"
          ]
        }
      ],
      "source": [
        "!pip install forex-python"
      ]
    },
    {
      "cell_type": "code",
      "execution_count": 2,
      "metadata": {
        "id": "-6q7uwO6eoUO"
      },
      "outputs": [],
      "source": [
        "import pandas as pd\n",
        "import numpy as np\n",
        "import matplotlib.pyplot as plt\n",
        "import seaborn as sns\n",
        "\n",
        "import requests\n",
        "import json\n",
        "import time\n",
        "import joblib\n",
        "import datetime\n",
        "\n",
        "from sklearn import preprocessing\n",
        "from sklearn.feature_extraction.text import TfidfVectorizer\n",
        "from sklearn.ensemble import RandomForestRegressor\n",
        "from sklearn.model_selection import train_test_split\n",
        "from sklearn.model_selection import cross_val_score, KFold\n",
        "from sklearn.model_selection import GridSearchCV\n",
        "from sklearn import tree\n",
        "from sklearn.preprocessing import StandardScaler\n",
        "from sklearn.preprocessing import PolynomialFeatures\n",
        "\n",
        "from forex_python.converter import CurrencyRates\n",
        "\n",
        "###RandomizedSearchCV\n",
        "from sklearn.linear_model import LinearRegression\n",
        "from sklearn.neighbors import KNeighborsRegressor\n",
        "from sklearn.metrics import mean_absolute_error, mean_squared_error, r2_score, accuracy_score"
      ]
    },
    {
      "cell_type": "code",
      "execution_count": 3,
      "metadata": {
        "id": "rBMl1FyhVWcb"
      },
      "outputs": [],
      "source": [
        "def change_currency(val, curr_from, curr_to):\n",
        "  if curr_from != curr_to:\n",
        "    curr_from = curr_from.upper()\n",
        "    curr_to = curr_to.upper()\n",
        "    c = CurrencyRates()\n",
        "    return round(val/c.get_rate(curr_to, curr_from, datetime.datetime.now()))"
      ]
    },
    {
      "cell_type": "code",
      "execution_count": 4,
      "metadata": {
        "id": "K4-vEJIKBYFT"
      },
      "outputs": [],
      "source": [
        "def remove_mark(value):\n",
        "    marks = ['>', '<', '-', '+', '_', ' ', '  ', ',']\n",
        "    for mark in marks:\n",
        "        if pd.notna(value) and mark in value:\n",
        "            return value.replace(mark, '')\n",
        "    return value"
      ]
    },
    {
      "cell_type": "code",
      "execution_count": 5,
      "metadata": {
        "id": "K0yosZVjroXI"
      },
      "outputs": [],
      "source": [
        "def remove_blanc(value):\n",
        "    if value == '':\n",
        "        value = 0\n",
        "        return value"
      ]
    },
    {
      "cell_type": "code",
      "execution_count": 6,
      "metadata": {
        "id": "peCsuyUDHyQF"
      },
      "outputs": [],
      "source": [
        "def evaluate_regression_model(model, X_test, y_test):\n",
        "    \"\"\"\n",
        "    Evaluates the performance of a regression model and provides a summary.\n",
        "\n",
        "    Parameters:\n",
        "        model: A trained regression model from scikit-learn.\n",
        "        X_test: Test features.\n",
        "        y_test: Test labels.\n",
        "    \"\"\"\n",
        "    # Predictions on the test set\n",
        "    y_pred = model.predict(X_test)\n",
        "\n",
        "    # Calculate metrics\n",
        "    mae = mean_absolute_error(y_test, y_pred)\n",
        "    mse = mean_squared_error(y_test, y_pred)\n",
        "    rmse = mean_squared_error(y_test, y_pred, squared=False)  # RMSE\n",
        "    r2 = r2_score(y_test, y_pred)\n",
        "\n",
        "    # Display results\n",
        "    print(\"Regression Model Evaluation:\")\n",
        "    print(\"===========================\")\n",
        "    print(f\"Mean Absolute Error (MAE): {mae:.2f}\")\n",
        "    print(f\"Mean Squared Error (MSE): {mse:.2f}\")\n",
        "    print(f\"Root Mean Squared Error (RMSE): {rmse:.2f}\")\n",
        "    print(f\"R-squared (R2): {r2:.2f}\")"
      ]
    },
    {
      "cell_type": "code",
      "execution_count": 7,
      "metadata": {
        "id": "MPJLs00kXQXo"
      },
      "outputs": [],
      "source": [
        "def api_to_df(url):\n",
        "    response = requests.get(url)\n",
        "    content = response.json()\n",
        "    return pd.DataFrame.from_records(content)\n"
      ]
    },
    {
      "cell_type": "code",
      "execution_count": 8,
      "metadata": {
        "id": "RfHKL9f0YgTI"
      },
      "outputs": [],
      "source": [
        "def to_csv_date(df, filename):\n",
        "    current_date = pd.Timestamp(\"today\").strftime(\"%m%d%Y\")\n",
        "    df.to_csv(filename + '_' + current_date + '_.csv', index = False)\n"
      ]
    },
    {
      "cell_type": "code",
      "execution_count": 9,
      "metadata": {
        "id": "Iljb_FG1Yi93"
      },
      "outputs": [],
      "source": [
        "def remove_null_col(df):\n",
        "    return df.dropna(axis=1, how='all', inplace = False)"
      ]
    },
    {
      "cell_type": "code",
      "execution_count": 10,
      "metadata": {
        "id": "bV6HbV2_YlOA"
      },
      "outputs": [],
      "source": [
        "def flatten_list_col(df):\n",
        "    new_df = pd.DataFrame()\n",
        "    nested_columns_list = []\n",
        "    for i, col in enumerate(df.columns):\n",
        "        if any(isinstance(item, list) for item in df[col]):\n",
        "            nested_columns_list.append(col)\n",
        "            new_df= pd.concat([new_df, df[col].apply(pd.Series)], axis = 1)\n",
        "    new_columns = list(range(len(new_df.columns)))\n",
        "    new_df.columns = new_columns\n",
        "    return new_df"
      ]
    },
    {
      "cell_type": "code",
      "execution_count": 11,
      "metadata": {
        "id": "A7U2aPp8YoT4"
      },
      "outputs": [],
      "source": [
        "def flatten_dict_col(df):\n",
        "    new_df = pd.DataFrame()\n",
        "    nested_columns_list = []\n",
        "    for i, col in enumerate(df.columns):\n",
        "        if any(isinstance(item, dict) for item in df[col]):\n",
        "            nested_columns_list.append(col)\n",
        "            new_df= pd.concat([new_df, df[col].apply(pd.Series)], axis = 1)\n",
        "#     new_columns = list(range(len(new_df.columns)))\n",
        "#     new_df.columns = new_columns\n",
        "    new_df = remove_null_col(new_df)\n",
        "    return new_df"
      ]
    },
    {
      "cell_type": "code",
      "execution_count": 12,
      "metadata": {
        "id": "yPnvG6bBZ6lJ"
      },
      "outputs": [],
      "source": [
        "def unpack_nested_col(nested_col, key_name):\n",
        "    unpacked_col = {}\n",
        "    nested_col_unpacked = nested_col.apply(pd.Series)\n",
        "    for i, col in enumerate(nested_col_unpacked.columns):\n",
        "        unpacked_col[f'{key_name}_{i}'] = nested_col_unpacked[col].apply(pd.Series)\n",
        "        if 0 in unpacked_col[f'{key_name}_{i}'].columns:\n",
        "            if unpacked_col[f'{key_name}_{i}'][0].isna().all():\n",
        "                unpacked_col[f'{key_name}_{i}'].drop(columns = 0, inplace = True)\n",
        "    return unpacked_col"
      ]
    },
    {
      "cell_type": "code",
      "execution_count": 13,
      "metadata": {
        "id": "KWUFbgEaroXK"
      },
      "outputs": [],
      "source": [
        "def standardize_text(df, text_field):\n",
        "    df[text_field] = df[text_field].str.lower()\n",
        "    return df"
      ]
    },
    {
      "cell_type": "code",
      "execution_count": 14,
      "metadata": {
        "id": "D4hvcePmYs0v"
      },
      "outputs": [],
      "source": [
        "def replace_cols(recipient_df, col_replaced, donor_df, col_replacing):\n",
        "    recipient_df.drop(columns = col_replaced, inplace = True)\n",
        "    recipient_df = pd.concat([recipient_df, donor_df[col_replacing]])\n",
        "    return recipient_df"
      ]
    },
    {
      "cell_type": "markdown",
      "metadata": {
        "id": "uIL37bLnKsyr"
      },
      "source": [
        "## Reading initial data from API. In this step, we accept all offers from the API, but only receive general information. In order to complete the data, we also read each offer separately using its individual API."
      ]
    },
    {
      "cell_type": "markdown",
      "metadata": {
        "id": "9XRC0WCeYyH3"
      },
      "source": [
        "\n",
        "## Unpacking the data\n"
      ]
    },
    {
      "cell_type": "code",
      "execution_count": null,
      "metadata": {
        "colab": {
          "base_uri": "https://localhost:8080/"
        },
        "id": "pBXzE6iAYvN_",
        "outputId": "b45b51f6-c8ff-4a9e-ff87-f63e9b140ef1"
      },
      "outputs": [
        {
          "output_type": "stream",
          "name": "stdout",
          "text": [
            "<class 'pandas.core.frame.DataFrame'>\n",
            "RangeIndex: 12988 entries, 0 to 12987\n",
            "Data columns (total 24 columns):\n",
            " #   Column                   Non-Null Count  Dtype \n",
            "---  ------                   --------------  ----- \n",
            " 0   title                    12988 non-null  object\n",
            " 1   street                   12986 non-null  object\n",
            " 2   city                     12988 non-null  object\n",
            " 3   country_code             12982 non-null  object\n",
            " 4   address_text             12988 non-null  object\n",
            " 5   marker_icon              12988 non-null  object\n",
            " 6   workplace_type           12988 non-null  object\n",
            " 7   company_name             12988 non-null  object\n",
            " 8   company_url              12988 non-null  object\n",
            " 9   company_size             12988 non-null  object\n",
            " 10  experience_level         12988 non-null  object\n",
            " 11  latitude                 12988 non-null  object\n",
            " 12  longitude                12988 non-null  object\n",
            " 13  published_at             12988 non-null  object\n",
            " 14  remote_interview         12988 non-null  bool  \n",
            " 15  open_to_hire_ukrainians  12988 non-null  bool  \n",
            " 16  id                       12988 non-null  object\n",
            " 17  display_offer            12988 non-null  bool  \n",
            " 18  employment_types         12988 non-null  object\n",
            " 19  company_logo_url         12988 non-null  object\n",
            " 20  skills                   12988 non-null  object\n",
            " 21  remote                   12988 non-null  bool  \n",
            " 22  multilocation            12988 non-null  object\n",
            " 23  way_of_apply             12988 non-null  object\n",
            "dtypes: bool(4), object(20)\n",
            "memory usage: 2.0+ MB\n"
          ]
        }
      ],
      "source": [
        "df_init = api_to_df('https://justjoin.it/api/offers')\n",
        "\n",
        "df_init.info()"
      ]
    },
    {
      "cell_type": "markdown",
      "metadata": {
        "id": "ZcHsRCYJiD_y"
      },
      "source": [
        "## Select the subset of the data - only \"data\" marker icon"
      ]
    },
    {
      "cell_type": "code",
      "execution_count": null,
      "metadata": {
        "id": "BDY21nfovSn1"
      },
      "outputs": [],
      "source": [
        "# Limit observations to those that have flag 'data'\n",
        "df_data = df_init[df_init['marker_icon'] == 'data']\n",
        "df_data.reset_index(drop=True, inplace = True)"
      ]
    },
    {
      "cell_type": "markdown",
      "metadata": {
        "id": "BSyhlRNOJ9Hq"
      },
      "source": [
        "## Reading detailed data for every separete offer from API"
      ]
    },
    {
      "cell_type": "code",
      "execution_count": null,
      "metadata": {
        "id": "-cA9M3EQ6Rle"
      },
      "outputs": [],
      "source": [
        "json_data = []"
      ]
    },
    {
      "cell_type": "code",
      "execution_count": null,
      "metadata": {
        "id": "IW7WIO2U7E15"
      },
      "outputs": [],
      "source": [
        "offers = list(df_data.id)"
      ]
    },
    {
      "cell_type": "code",
      "execution_count": null,
      "metadata": {
        "colab": {
          "base_uri": "https://localhost:8080/"
        },
        "id": "Xcxmi4xjQOGu",
        "outputId": "d7355bf8-d893-46e0-9285-00abeabe020a"
      },
      "outputs": [
        {
          "output_type": "execute_result",
          "data": {
            "text/plain": [
              "1100"
            ]
          },
          "metadata": {},
          "execution_count": 19
        }
      ],
      "source": [
        "len(offers)"
      ]
    },
    {
      "cell_type": "code",
      "execution_count": null,
      "metadata": {
        "id": "OopZge2j6WW9",
        "colab": {
          "base_uri": "https://localhost:8080/",
          "height": 453
        },
        "outputId": "080aa637-d61e-4282-ac6b-c95884230a9c"
      },
      "outputs": [
        {
          "output_type": "error",
          "ename": "JSONDecodeError",
          "evalue": "ignored",
          "traceback": [
            "\u001b[0;31m---------------------------------------------------------------------------\u001b[0m",
            "\u001b[0;31mJSONDecodeError\u001b[0m                           Traceback (most recent call last)",
            "\u001b[0;32m/usr/local/lib/python3.10/dist-packages/requests/models.py\u001b[0m in \u001b[0;36mjson\u001b[0;34m(self, **kwargs)\u001b[0m\n\u001b[1;32m    970\u001b[0m         \u001b[0;32mtry\u001b[0m\u001b[0;34m:\u001b[0m\u001b[0;34m\u001b[0m\u001b[0;34m\u001b[0m\u001b[0m\n\u001b[0;32m--> 971\u001b[0;31m             \u001b[0;32mreturn\u001b[0m \u001b[0mcomplexjson\u001b[0m\u001b[0;34m.\u001b[0m\u001b[0mloads\u001b[0m\u001b[0;34m(\u001b[0m\u001b[0mself\u001b[0m\u001b[0;34m.\u001b[0m\u001b[0mtext\u001b[0m\u001b[0;34m,\u001b[0m \u001b[0;34m**\u001b[0m\u001b[0mkwargs\u001b[0m\u001b[0;34m)\u001b[0m\u001b[0;34m\u001b[0m\u001b[0;34m\u001b[0m\u001b[0m\n\u001b[0m\u001b[1;32m    972\u001b[0m         \u001b[0;32mexcept\u001b[0m \u001b[0mJSONDecodeError\u001b[0m \u001b[0;32mas\u001b[0m \u001b[0me\u001b[0m\u001b[0;34m:\u001b[0m\u001b[0;34m\u001b[0m\u001b[0;34m\u001b[0m\u001b[0m\n",
            "\u001b[0;32m/usr/local/lib/python3.10/dist-packages/simplejson/__init__.py\u001b[0m in \u001b[0;36mloads\u001b[0;34m(s, encoding, cls, object_hook, parse_float, parse_int, parse_constant, object_pairs_hook, use_decimal, allow_nan, **kw)\u001b[0m\n\u001b[1;32m    513\u001b[0m             and not use_decimal and not allow_nan and not kw):\n\u001b[0;32m--> 514\u001b[0;31m         \u001b[0;32mreturn\u001b[0m \u001b[0m_default_decoder\u001b[0m\u001b[0;34m.\u001b[0m\u001b[0mdecode\u001b[0m\u001b[0;34m(\u001b[0m\u001b[0ms\u001b[0m\u001b[0;34m)\u001b[0m\u001b[0;34m\u001b[0m\u001b[0;34m\u001b[0m\u001b[0m\n\u001b[0m\u001b[1;32m    515\u001b[0m     \u001b[0;32mif\u001b[0m \u001b[0mcls\u001b[0m \u001b[0;32mis\u001b[0m \u001b[0;32mNone\u001b[0m\u001b[0;34m:\u001b[0m\u001b[0;34m\u001b[0m\u001b[0;34m\u001b[0m\u001b[0m\n",
            "\u001b[0;32m/usr/local/lib/python3.10/dist-packages/simplejson/decoder.py\u001b[0m in \u001b[0;36mdecode\u001b[0;34m(self, s, _w, _PY3)\u001b[0m\n\u001b[1;32m    385\u001b[0m             \u001b[0ms\u001b[0m \u001b[0;34m=\u001b[0m \u001b[0mstr\u001b[0m\u001b[0;34m(\u001b[0m\u001b[0ms\u001b[0m\u001b[0;34m,\u001b[0m \u001b[0mself\u001b[0m\u001b[0;34m.\u001b[0m\u001b[0mencoding\u001b[0m\u001b[0;34m)\u001b[0m\u001b[0;34m\u001b[0m\u001b[0;34m\u001b[0m\u001b[0m\n\u001b[0;32m--> 386\u001b[0;31m         \u001b[0mobj\u001b[0m\u001b[0;34m,\u001b[0m \u001b[0mend\u001b[0m \u001b[0;34m=\u001b[0m \u001b[0mself\u001b[0m\u001b[0;34m.\u001b[0m\u001b[0mraw_decode\u001b[0m\u001b[0;34m(\u001b[0m\u001b[0ms\u001b[0m\u001b[0;34m)\u001b[0m\u001b[0;34m\u001b[0m\u001b[0;34m\u001b[0m\u001b[0m\n\u001b[0m\u001b[1;32m    387\u001b[0m         \u001b[0mend\u001b[0m \u001b[0;34m=\u001b[0m \u001b[0m_w\u001b[0m\u001b[0;34m(\u001b[0m\u001b[0ms\u001b[0m\u001b[0;34m,\u001b[0m \u001b[0mend\u001b[0m\u001b[0;34m)\u001b[0m\u001b[0;34m.\u001b[0m\u001b[0mend\u001b[0m\u001b[0;34m(\u001b[0m\u001b[0;34m)\u001b[0m\u001b[0;34m\u001b[0m\u001b[0;34m\u001b[0m\u001b[0m\n",
            "\u001b[0;32m/usr/local/lib/python3.10/dist-packages/simplejson/decoder.py\u001b[0m in \u001b[0;36mraw_decode\u001b[0;34m(self, s, idx, _w, _PY3)\u001b[0m\n\u001b[1;32m    415\u001b[0m                 \u001b[0midx\u001b[0m \u001b[0;34m+=\u001b[0m \u001b[0;36m3\u001b[0m\u001b[0;34m\u001b[0m\u001b[0;34m\u001b[0m\u001b[0m\n\u001b[0;32m--> 416\u001b[0;31m         \u001b[0;32mreturn\u001b[0m \u001b[0mself\u001b[0m\u001b[0;34m.\u001b[0m\u001b[0mscan_once\u001b[0m\u001b[0;34m(\u001b[0m\u001b[0ms\u001b[0m\u001b[0;34m,\u001b[0m \u001b[0midx\u001b[0m\u001b[0;34m=\u001b[0m\u001b[0m_w\u001b[0m\u001b[0;34m(\u001b[0m\u001b[0ms\u001b[0m\u001b[0;34m,\u001b[0m \u001b[0midx\u001b[0m\u001b[0;34m)\u001b[0m\u001b[0;34m.\u001b[0m\u001b[0mend\u001b[0m\u001b[0;34m(\u001b[0m\u001b[0;34m)\u001b[0m\u001b[0;34m)\u001b[0m\u001b[0;34m\u001b[0m\u001b[0;34m\u001b[0m\u001b[0m\n\u001b[0m",
            "\u001b[0;31mJSONDecodeError\u001b[0m: Expecting value: line 1 column 1 (char 0)",
            "\nDuring handling of the above exception, another exception occurred:\n",
            "\u001b[0;31mJSONDecodeError\u001b[0m                           Traceback (most recent call last)",
            "\u001b[0;32m<ipython-input-20-9b0ee1f5be1c>\u001b[0m in \u001b[0;36m<cell line: 1>\u001b[0;34m()\u001b[0m\n\u001b[1;32m      2\u001b[0m   \u001b[0murl\u001b[0m \u001b[0;34m=\u001b[0m \u001b[0;34mf'https://justjoin.it/api/offers/{offer}'\u001b[0m\u001b[0;34m\u001b[0m\u001b[0;34m\u001b[0m\u001b[0m\n\u001b[1;32m      3\u001b[0m   \u001b[0mresponse\u001b[0m \u001b[0;34m=\u001b[0m \u001b[0mrequests\u001b[0m\u001b[0;34m.\u001b[0m\u001b[0mget\u001b[0m\u001b[0;34m(\u001b[0m\u001b[0murl\u001b[0m\u001b[0;34m)\u001b[0m\u001b[0;34m\u001b[0m\u001b[0;34m\u001b[0m\u001b[0m\n\u001b[0;32m----> 4\u001b[0;31m   \u001b[0mjson_obj\u001b[0m \u001b[0;34m=\u001b[0m \u001b[0mresponse\u001b[0m\u001b[0;34m.\u001b[0m\u001b[0mjson\u001b[0m\u001b[0;34m(\u001b[0m\u001b[0;34m)\u001b[0m\u001b[0;34m\u001b[0m\u001b[0;34m\u001b[0m\u001b[0m\n\u001b[0m\u001b[1;32m      5\u001b[0m \u001b[0;31m#   initial_df = pd.json_normalize(json_obj)\u001b[0m\u001b[0;34m\u001b[0m\u001b[0;34m\u001b[0m\u001b[0m\n\u001b[1;32m      6\u001b[0m   \u001b[0mjson_data\u001b[0m\u001b[0;34m.\u001b[0m\u001b[0mappend\u001b[0m\u001b[0;34m(\u001b[0m\u001b[0mjson_obj\u001b[0m\u001b[0;34m)\u001b[0m\u001b[0;34m\u001b[0m\u001b[0;34m\u001b[0m\u001b[0m\n",
            "\u001b[0;32m/usr/local/lib/python3.10/dist-packages/requests/models.py\u001b[0m in \u001b[0;36mjson\u001b[0;34m(self, **kwargs)\u001b[0m\n\u001b[1;32m    973\u001b[0m             \u001b[0;31m# Catch JSON-related errors and raise as requests.JSONDecodeError\u001b[0m\u001b[0;34m\u001b[0m\u001b[0;34m\u001b[0m\u001b[0m\n\u001b[1;32m    974\u001b[0m             \u001b[0;31m# This aliases json.JSONDecodeError and simplejson.JSONDecodeError\u001b[0m\u001b[0;34m\u001b[0m\u001b[0;34m\u001b[0m\u001b[0m\n\u001b[0;32m--> 975\u001b[0;31m             \u001b[0;32mraise\u001b[0m \u001b[0mRequestsJSONDecodeError\u001b[0m\u001b[0;34m(\u001b[0m\u001b[0me\u001b[0m\u001b[0;34m.\u001b[0m\u001b[0mmsg\u001b[0m\u001b[0;34m,\u001b[0m \u001b[0me\u001b[0m\u001b[0;34m.\u001b[0m\u001b[0mdoc\u001b[0m\u001b[0;34m,\u001b[0m \u001b[0me\u001b[0m\u001b[0;34m.\u001b[0m\u001b[0mpos\u001b[0m\u001b[0;34m)\u001b[0m\u001b[0;34m\u001b[0m\u001b[0;34m\u001b[0m\u001b[0m\n\u001b[0m\u001b[1;32m    976\u001b[0m \u001b[0;34m\u001b[0m\u001b[0m\n\u001b[1;32m    977\u001b[0m     \u001b[0;34m@\u001b[0m\u001b[0mproperty\u001b[0m\u001b[0;34m\u001b[0m\u001b[0;34m\u001b[0m\u001b[0m\n",
            "\u001b[0;31mJSONDecodeError\u001b[0m: Expecting value: line 1 column 1 (char 0)"
          ]
        }
      ],
      "source": [
        "for offer in offers:\n",
        "  url = f'https://justjoin.it/api/offers/{offer}'\n",
        "  response = requests.get(url)\n",
        "  json_obj = response.json()\n",
        "#   initial_df = pd.json_normalize(json_obj)\n",
        "  json_data.append(json_obj)\n",
        "#   time.sleep(0.5)"
      ]
    },
    {
      "cell_type": "code",
      "execution_count": null,
      "metadata": {
        "id": "OkkgjsuLRy-w"
      },
      "outputs": [],
      "source": [
        "df_data_offers = pd.DataFrame(json_data)\n",
        "to_csv_date(df_data_offers, 'df_data_offers')"
      ]
    },
    {
      "cell_type": "code",
      "execution_count": null,
      "metadata": {
        "id": "d7a7ItlZVcjs"
      },
      "outputs": [],
      "source": [
        "df_data_offers.info(10)"
      ]
    },
    {
      "cell_type": "markdown",
      "metadata": {
        "id": "OG1bQrvEroXN"
      },
      "source": [
        "### Dealing with skills"
      ]
    },
    {
      "cell_type": "code",
      "execution_count": null,
      "metadata": {
        "id": "oJrq48jBroXN"
      },
      "outputs": [],
      "source": [
        "print(df_data_offers['skills'][0])"
      ]
    },
    {
      "cell_type": "code",
      "execution_count": null,
      "metadata": {
        "id": "mb3I-XKIfMlD"
      },
      "outputs": [],
      "source": [
        "# Putting all skills into one column\n",
        "\n",
        "old_data = df_data_offers.to_dict(orient='records')\n",
        "new_data = []\n",
        "\n",
        "for index, skills_list in enumerate(df_data_offers['skills']):\n",
        "    for skill in skills_list:\n",
        "        new_row = old_data[index].copy()\n",
        "        new_row['skill_name'] = skill['name']\n",
        "        new_row['skill_level'] = skill['level']\n",
        "        new_data.append(new_row)"
      ]
    },
    {
      "cell_type": "code",
      "execution_count": null,
      "metadata": {
        "id": "vnQze3bCfRDy"
      },
      "outputs": [],
      "source": [
        "new_df = pd.DataFrame(new_data)"
      ]
    },
    {
      "cell_type": "code",
      "execution_count": null,
      "metadata": {
        "id": "yYB1u2oeroXO"
      },
      "outputs": [],
      "source": [
        "new_df.sample()"
      ]
    },
    {
      "cell_type": "code",
      "execution_count": null,
      "metadata": {
        "id": "KvGJSECgfZN6"
      },
      "outputs": [],
      "source": [
        "new_df.skill_name.unique()"
      ]
    },
    {
      "cell_type": "code",
      "execution_count": null,
      "metadata": {
        "id": "WYBz4_MNfe0g"
      },
      "outputs": [],
      "source": [
        "new_df.skill_name.nunique()"
      ]
    },
    {
      "cell_type": "code",
      "execution_count": null,
      "metadata": {
        "id": "O6jg-xX2gR1X"
      },
      "outputs": [],
      "source": [
        "clean_df = new_df.copy()\n",
        "clean_df = standardize_text(clean_df, \"title\")\n",
        "clean_df = standardize_text(clean_df, \"skill_name\")"
      ]
    },
    {
      "cell_type": "code",
      "execution_count": null,
      "metadata": {
        "id": "ojvkVUjQroXO"
      },
      "outputs": [],
      "source": [
        "clean_df.head(5)"
      ]
    },
    {
      "cell_type": "code",
      "execution_count": null,
      "metadata": {
        "id": "XCVG8Uwzfhlm"
      },
      "outputs": [],
      "source": [
        "top_values = clean_df['skill_name'].value_counts().head(20)\n",
        "top_20_skills = list(top_values.index)"
      ]
    },
    {
      "cell_type": "code",
      "execution_count": null,
      "metadata": {
        "id": "EAjoCKmsih0E"
      },
      "outputs": [],
      "source": [
        "print(top_20_skills)"
      ]
    },
    {
      "cell_type": "code",
      "execution_count": null,
      "metadata": {
        "id": "9bgnE6xhroXT"
      },
      "outputs": [],
      "source": [
        "plt.figure(figsize=(10, 6))\n",
        "sns.set(style=\"darkgrid\")\n",
        "plot = sns.barplot(x=clean_df['skill_name'].value_counts().iloc[:20].index, y=clean_df['skill_name'].value_counts().iloc[:20].values)\n",
        "plot.set_title('20 Most Common Skills')\n",
        "plot.set_xticklabels(plot.get_xticklabels(), rotation=45, horizontalalignment='right')\n",
        "\n",
        "plt.show()"
      ]
    },
    {
      "cell_type": "code",
      "execution_count": null,
      "metadata": {
        "id": "dd32fVp7roXU"
      },
      "outputs": [],
      "source": [
        "# Sprawdzanie i zamiana wartości\n",
        "common_skills_df = clean_df.copy()\n",
        "mask = ~common_skills_df['skill_name'].isin(top_20_skills)\n",
        "common_skills_df.loc[mask, 'skill_name'] = None\n"
      ]
    },
    {
      "cell_type": "code",
      "execution_count": null,
      "metadata": {
        "id": "ZHzRMyr4QPDm"
      },
      "outputs": [],
      "source": [
        "most_common_skills_df = common_skills_df.dropna(subset=['skill_name'])"
      ]
    },
    {
      "cell_type": "code",
      "execution_count": null,
      "metadata": {
        "id": "KAaH9P8_QW09"
      },
      "outputs": [],
      "source": [
        "most_common_skills_df.reset_index(drop=True, inplace = True)\n",
        "most_common_skills_df.info()"
      ]
    },
    {
      "cell_type": "code",
      "execution_count": null,
      "metadata": {
        "id": "UZfUGhpjroXU"
      },
      "outputs": [],
      "source": [
        "most_common_skills_df.skill_name.nunique()"
      ]
    },
    {
      "cell_type": "code",
      "execution_count": null,
      "metadata": {
        "id": "6xvMGqrdroXU"
      },
      "outputs": [],
      "source": [
        "most_common_skills_df.columns"
      ]
    },
    {
      "cell_type": "code",
      "execution_count": null,
      "metadata": {
        "id": "ywo6HEAlroXU"
      },
      "outputs": [],
      "source": [
        "dummies = pd.get_dummies(most_common_skills_df['skill_name'], prefix='skill')\n",
        "\n",
        "for col in dummies.columns:\n",
        "    dummies[col] *=  most_common_skills_df['skill_level']\n",
        "\n",
        "# Dołączanie kolumn dummies\n",
        "aggregated_df = pd.concat([most_common_skills_df, dummies], axis=1)\n",
        "\n",
        "def custom_agg(series):\n",
        "    if series.name.startswith('skill'):\n",
        "        return series.sum()\n",
        "    else:\n",
        "        return series.iat[0]\n",
        "\n",
        "\n",
        "aggregated_df = aggregated_df.drop('skill_name', axis=1)\n",
        "aggregated_df = aggregated_df.drop('skills', axis=1)\n",
        "\n",
        "# Grupowanie, agregacja i reset indeksu\n",
        "aggregated_df = aggregated_df.groupby('id', as_index=False).agg(custom_agg)\n",
        "aggregated_df = aggregated_df.drop('skill_level', axis=1)"
      ]
    },
    {
      "cell_type": "code",
      "execution_count": null,
      "metadata": {
        "id": "1Gbhfv0nroXU"
      },
      "outputs": [],
      "source": [
        "aggregated_df.info()"
      ]
    },
    {
      "cell_type": "markdown",
      "metadata": {
        "id": "T9VfDcCOroXU"
      },
      "source": [
        "## Dealing with experience level - label encoding"
      ]
    },
    {
      "cell_type": "code",
      "execution_count": null,
      "metadata": {
        "id": "BZvHz6IIroXV"
      },
      "outputs": [],
      "source": [
        "aggregated_df['experience_level'].unique()"
      ]
    },
    {
      "cell_type": "code",
      "execution_count": null,
      "metadata": {
        "id": "6cfNNP2nroXV"
      },
      "outputs": [],
      "source": [
        "label_encoder = preprocessing.LabelEncoder()\n",
        "aggregated_df['experience_level']= label_encoder.fit_transform(aggregated_df['experience_level'])"
      ]
    },
    {
      "cell_type": "markdown",
      "metadata": {
        "id": "IoFXGuoTroXV"
      },
      "source": [
        "## Dealing with 'workplace_type', 'country_code'"
      ]
    },
    {
      "cell_type": "code",
      "execution_count": null,
      "metadata": {
        "id": "aBqXs4qjroXV"
      },
      "outputs": [],
      "source": [
        "aggregated_df['workplace_type'].unique()"
      ]
    },
    {
      "cell_type": "code",
      "execution_count": null,
      "metadata": {
        "id": "K821pb5eroXV"
      },
      "outputs": [],
      "source": [
        "aggregated_df['country_code'].unique()"
      ]
    },
    {
      "cell_type": "code",
      "source": [
        "aggregated_df[aggregated_df['country_code'].isna()]"
      ],
      "metadata": {
        "id": "Cl38Jgw_wng5"
      },
      "execution_count": null,
      "outputs": []
    },
    {
      "cell_type": "code",
      "execution_count": null,
      "metadata": {
        "id": "ICygch60roXV"
      },
      "outputs": [],
      "source": [
        "aggregated_df['workplace_type']= label_encoder.fit_transform(aggregated_df['workplace_type'])\n",
        "aggregated_df['country_code']= label_encoder.fit_transform(aggregated_df['country_code'])\n"
      ]
    },
    {
      "cell_type": "markdown",
      "metadata": {
        "id": "wfa3GCe0roXV"
      },
      "source": [
        "## Dealing with salaries"
      ]
    },
    {
      "cell_type": "code",
      "execution_count": null,
      "metadata": {
        "id": "YmkcTgfZroXV"
      },
      "outputs": [],
      "source": [
        "df_employment_types = aggregated_df['employment_types'].apply(pd.Series)\n",
        "df_employment_types.sample()"
      ]
    },
    {
      "cell_type": "code",
      "execution_count": null,
      "metadata": {
        "id": "aaM_1q9uroXV"
      },
      "outputs": [],
      "source": [
        "df_employment_type_1 = df_employment_types[0].apply(pd.Series, dtype='object')\n",
        "df_employment_type_1= pd.concat([df_employment_type_1.drop(['salary'], axis=1),\n",
        "                                 df_employment_type_1['salary'].apply(pd.Series, dtype='object')], axis=1)\n",
        "df_employment_type_1.sample()"
      ]
    },
    {
      "cell_type": "code",
      "execution_count": null,
      "metadata": {
        "id": "AvBsWoMTroXV"
      },
      "outputs": [],
      "source": [
        "df_employment_type_2 = df_employment_types[1].apply(pd.Series, dtype='object')\n",
        "df_employment_type_2 = pd.concat([df_employment_type_2.drop(['salary'], axis=1),\n",
        "                                  df_employment_type_2['salary'].apply(pd.Series, dtype='object')], axis=1)\n",
        "df_employment_type_2.drop(columns=0, inplace = True)\n",
        "df_employment_type_2.sample(10)"
      ]
    },
    {
      "cell_type": "code",
      "execution_count": null,
      "metadata": {
        "id": "sBZoIvVJroXW"
      },
      "outputs": [],
      "source": [
        "df_no_employment = aggregated_df.drop(columns = 'employment_types')\n",
        "df_employment_1 = pd.concat([df_no_employment, df_employment_type_1], axis = 1)\n",
        "df_employment_2 = pd.concat([df_no_employment, df_employment_type_2], axis = 1)\n",
        "df_employment = pd.concat([df_employment_1, df_employment_2])\n",
        "df_employment.dropna(subset=['type'], inplace = True)\n",
        "df_employment.reset_index(drop=True, inplace = True)\n",
        "df_employment.info()"
      ]
    },
    {
      "cell_type": "code",
      "execution_count": null,
      "metadata": {
        "id": "AG2oXkd6roXW"
      },
      "outputs": [],
      "source": [
        "df_employment['type']= label_encoder.fit_transform(df_employment['type'])"
      ]
    },
    {
      "cell_type": "markdown",
      "metadata": {
        "id": "ZWOU-ORsroXW"
      },
      "source": [
        "### Convert all currencies to PLN"
      ]
    },
    {
      "cell_type": "code",
      "execution_count": null,
      "metadata": {
        "id": "Ix_8Rd1groXW"
      },
      "outputs": [],
      "source": [
        "currency_list = list(df_employment[df_employment['from'].notna()]['currency'].unique())\n",
        "currency_list"
      ]
    },
    {
      "cell_type": "code",
      "execution_count": null,
      "metadata": {
        "id": "jcnmjctCroXW"
      },
      "outputs": [],
      "source": [
        "selected_currency  = 'pln'\n",
        "foreign_currencies = currency_list.copy()\n",
        "foreign_currencies.remove(selected_currency)"
      ]
    },
    {
      "cell_type": "code",
      "execution_count": null,
      "metadata": {
        "id": "ACulAJC9roXW"
      },
      "outputs": [],
      "source": [
        "df_with_salary = df_employment[df_employment['currency'].notna()]\n",
        "df_no_salary = df_employment[df_employment['currency'].isna()]"
      ]
    },
    {
      "cell_type": "code",
      "execution_count": null,
      "metadata": {
        "id": "d3hmVXq7roXW"
      },
      "outputs": [],
      "source": [
        "df_with_salary['from'] = df_with_salary.apply(lambda row: change_currency(row['from'], row['currency'], selected_currency)\n",
        "                                              if row['currency'] != selected_currency and pd.notna(row['currency'])\n",
        "                                              else row['from'], axis=1)"
      ]
    },
    {
      "cell_type": "code",
      "execution_count": null,
      "metadata": {
        "id": "viPYYYTvroXW"
      },
      "outputs": [],
      "source": [
        "df_with_salary['to'] = df_with_salary.apply(lambda row: change_currency(row['to'], row['currency'], selected_currency)\n",
        "                                            if row['currency'] != selected_currency and pd.notna(row['currency'])\n",
        "                                            else row['to'], axis=1)"
      ]
    },
    {
      "cell_type": "code",
      "execution_count": null,
      "metadata": {
        "id": "1OIlGY4proXW"
      },
      "outputs": [],
      "source": [
        "df_with_salary.loc[df_with_salary['currency'] != selected_currency, 'currency'] = selected_currency"
      ]
    },
    {
      "cell_type": "code",
      "execution_count": null,
      "metadata": {
        "id": "zrdFi0uuroXW"
      },
      "outputs": [],
      "source": [
        "df_pln = pd.concat([df_with_salary, df_no_salary])\n",
        "df_pln.reset_index(drop=True, inplace = True)\n",
        "df_pln.info()"
      ]
    },
    {
      "cell_type": "markdown",
      "metadata": {
        "id": "Lt8oXBZQroXX"
      },
      "source": [
        "### Convert company_size to avg_company_size\n",
        "\n"
      ]
    },
    {
      "cell_type": "code",
      "execution_count": null,
      "metadata": {
        "id": "jL3cSqw4roXX"
      },
      "outputs": [],
      "source": [
        "#cleaning up and encoding company sizes\n",
        "\n",
        "#cleaning up sizes that contain '-'\n",
        "company_size_df = df_pln[df_pln['company_size'].str.contains('-')][['company_size']]\n",
        "company_size_df"
      ]
    },
    {
      "cell_type": "code",
      "execution_count": null,
      "metadata": {
        "id": "hVS5RSnhTsg-"
      },
      "outputs": [],
      "source": [
        "company_size_df['company_size_1'] = company_size_df['company_size'].str.split('-').str[0]\n",
        "company_size_df['company_size_2']  = company_size_df['company_size'].str.split('-').str[-1]"
      ]
    },
    {
      "cell_type": "code",
      "execution_count": null,
      "metadata": {
        "id": "kbKIDex9UVSd"
      },
      "outputs": [],
      "source": [
        "company_size_df[company_size_df['company_size']=='-']"
      ]
    },
    {
      "cell_type": "code",
      "execution_count": null,
      "metadata": {
        "id": "vLw77-jrT4FO"
      },
      "outputs": [],
      "source": [
        "company_size_df = company_size_df[company_size_df['company_size'] != '-']\n",
        "company_size_df[company_size_df['company_size']=='-']"
      ]
    },
    {
      "cell_type": "code",
      "execution_count": null,
      "metadata": {
        "id": "zFKI_D6OUzVm"
      },
      "outputs": [],
      "source": [
        "# company_size_df = company_size_df.copy()\n",
        "company_size_df['company_size_1'] = pd.to_numeric(company_size_df['company_size_1'])\n",
        "company_size_df['company_size_2'] = pd.to_numeric(company_size_df['company_size_2'])\n",
        "company_size_df['avg_company_size'] = (company_size_df['company_size_1'] + company_size_df['company_size_2']) / 2\n",
        "\n",
        "company_size_df = company_size_df[['avg_company_size']]\n",
        "company_size_df"
      ]
    },
    {
      "cell_type": "code",
      "execution_count": null,
      "metadata": {
        "id": "7eZNw8RuroXX"
      },
      "outputs": [],
      "source": [
        "df_avg_company_size = pd.merge(df_pln, company_size_df, left_index=True, right_index=True, how = 'outer')"
      ]
    },
    {
      "cell_type": "code",
      "execution_count": null,
      "metadata": {
        "id": "foaesHkuW_99"
      },
      "outputs": [],
      "source": [
        "df_avg_company_size['company_size'] = df_avg_company_size['company_size'].apply(remove_mark)\n",
        "df_avg_company_size['company_size'].unique()"
      ]
    },
    {
      "cell_type": "code",
      "execution_count": null,
      "metadata": {
        "id": "ZBlI_RTkXTvc"
      },
      "outputs": [],
      "source": [
        "df_avg_company_size['company_size'] = df_avg_company_size['company_size'].apply(remove_mark)\n",
        "df_avg_company_size['company_size'].unique()"
      ]
    },
    {
      "cell_type": "code",
      "execution_count": null,
      "metadata": {
        "id": "xm9Uufr8roXX"
      },
      "outputs": [],
      "source": [
        "df_avg_company_size['company_size'] = pd.to_numeric(df_avg_company_size['company_size'])"
      ]
    },
    {
      "cell_type": "code",
      "execution_count": null,
      "metadata": {
        "id": "lPo7FJVXroXX"
      },
      "outputs": [],
      "source": [
        "df_avg_company_size['avg_company_size'] = df_avg_company_size.apply(\n",
        "    lambda row: row['company_size'] if pd.isna(row['avg_company_size']) else row['avg_company_size'],\n",
        "    axis=1\n",
        ").astype('float')"
      ]
    },
    {
      "cell_type": "code",
      "execution_count": null,
      "metadata": {
        "id": "FH7Bjk7vroXX"
      },
      "outputs": [],
      "source": [
        "df_avg_company_size.info()"
      ]
    },
    {
      "cell_type": "code",
      "execution_count": null,
      "metadata": {
        "id": "UDTKzYjGYrUG"
      },
      "outputs": [],
      "source": [
        "to_csv_date(df_avg_company_size,'offers_API_ready_to_analyze')"
      ]
    },
    {
      "cell_type": "markdown",
      "metadata": {
        "id": "LhJYSLKHroXX"
      },
      "source": []
    },
    {
      "cell_type": "markdown",
      "metadata": {
        "id": "rNgoxgnjHYmO"
      },
      "source": [
        "# BUILDING REGRESSION MODEL"
      ]
    },
    {
      "cell_type": "code",
      "execution_count": 15,
      "metadata": {
        "id": "aYAg92GuvG9H"
      },
      "outputs": [],
      "source": [
        "# df_reg = df_avg_company_size.copy()\n",
        "df_reg = pd.read_csv('offers_API_ready_to_analyze_08272023.csv')\n",
        "#pd.read_csv('https://raw.githubusercontent.com/KKozakiewicz/predict_salaries/main/ready_to_analyze_08252023_.csv')"
      ]
    },
    {
      "cell_type": "code",
      "execution_count": 16,
      "metadata": {
        "id": "jQU7ZlW_ZqDG",
        "colab": {
          "base_uri": "https://localhost:8080/"
        },
        "outputId": "651b1cb3-30d1-4f9a-dd96-e59f3cf79a10"
      },
      "outputs": [
        {
          "output_type": "stream",
          "name": "stdout",
          "text": [
            "<class 'pandas.core.frame.DataFrame'>\n",
            "RangeIndex: 1038 entries, 0 to 1037\n",
            "Data columns (total 58 columns):\n",
            " #   Column                   Non-Null Count  Dtype  \n",
            "---  ------                   --------------  -----  \n",
            " 0   id                       1038 non-null   object \n",
            " 1   apply_body               0 non-null      float64\n",
            " 2   title                    1038 non-null   object \n",
            " 3   street                   1038 non-null   object \n",
            " 4   city                     1038 non-null   object \n",
            " 5   country_code             1038 non-null   int64  \n",
            " 6   address_text             1038 non-null   object \n",
            " 7   marker_icon              1038 non-null   object \n",
            " 8   workplace_type           1038 non-null   int64  \n",
            " 9   company_name             1038 non-null   object \n",
            " 10  company_url              1038 non-null   object \n",
            " 11  company_size             1035 non-null   float64\n",
            " 12  experience_level         1038 non-null   int64  \n",
            " 13  latitude                 1038 non-null   float64\n",
            " 14  longitude                1038 non-null   float64\n",
            " 15  apply_url                704 non-null    object \n",
            " 16  published_at             1038 non-null   object \n",
            " 17  remote_interview         1038 non-null   bool   \n",
            " 18  video_key                1 non-null      object \n",
            " 19  video_provider           1 non-null      object \n",
            " 20  open_to_hire_ukrainians  1038 non-null   bool   \n",
            " 21  future_consent_title     876 non-null    object \n",
            " 22  future_consent           876 non-null    object \n",
            " 23  information_clause       1023 non-null   object \n",
            " 24  custom_consent_title     136 non-null    object \n",
            " 25  custom_consent           136 non-null    object \n",
            " 26  tags                     1038 non-null   object \n",
            " 27  body                     1038 non-null   object \n",
            " 28  company_logo_url         1038 non-null   object \n",
            " 29  banner_url               18 non-null     object \n",
            " 30  remote                   1038 non-null   bool   \n",
            " 31  multilocation            1038 non-null   object \n",
            " 32  company_profile          442 non-null    object \n",
            " 33  skill_aws                1038 non-null   int64  \n",
            " 34  skill_azure              1038 non-null   int64  \n",
            " 35  skill_big data           1038 non-null   int64  \n",
            " 36  skill_data               1038 non-null   int64  \n",
            " 37  skill_databricks         1038 non-null   int64  \n",
            " 38  skill_dwh                1038 non-null   int64  \n",
            " 39  skill_english            1038 non-null   int64  \n",
            " 40  skill_etl                1038 non-null   int64  \n",
            " 41  skill_java               1038 non-null   int64  \n",
            " 42  skill_machine learning   1038 non-null   int64  \n",
            " 43  skill_oracle             1038 non-null   int64  \n",
            " 44  skill_pl/sql             1038 non-null   int64  \n",
            " 45  skill_postgresql         1038 non-null   int64  \n",
            " 46  skill_power bi           1038 non-null   int64  \n",
            " 47  skill_python             1038 non-null   int64  \n",
            " 48  skill_scala              1038 non-null   int64  \n",
            " 49  skill_snowflake          1038 non-null   int64  \n",
            " 50  skill_spark              1038 non-null   int64  \n",
            " 51  skill_sql                1038 non-null   int64  \n",
            " 52  skill_tableau            1038 non-null   int64  \n",
            " 53  type                     1038 non-null   int64  \n",
            " 54  from                     714 non-null    float64\n",
            " 55  to                       714 non-null    float64\n",
            " 56  currency                 714 non-null    object \n",
            " 57  avg_company_size         1035 non-null   float64\n",
            "dtypes: bool(3), float64(7), int64(24), object(24)\n",
            "memory usage: 449.2+ KB\n"
          ]
        }
      ],
      "source": [
        "df_reg.info()"
      ]
    },
    {
      "cell_type": "code",
      "execution_count": 17,
      "metadata": {
        "id": "ie3utLLuHWvD"
      },
      "outputs": [],
      "source": [
        "# remove columns that won't be taken into consideration\n",
        "df_reg_limit=df_reg.drop(columns = ['id', 'apply_body', 'title', 'company_size', 'street', 'city', 'address_text', 'marker_icon', 'company_name', 'company_url', 'latitude', 'longitude', 'apply_url', 'published_at', 'remote_interview', 'video_key', 'video_provider', 'open_to_hire_ukrainians', 'future_consent_title', 'future_consent', 'information_clause', 'custom_consent_title', 'custom_consent', 'tags', 'body', 'company_logo_url', 'banner_url', 'multilocation', 'company_profile', 'currency'])\n"
      ]
    },
    {
      "cell_type": "code",
      "execution_count": 18,
      "metadata": {
        "id": "ezqMq-KiT-l2",
        "colab": {
          "base_uri": "https://localhost:8080/"
        },
        "outputId": "6619a170-de52-401a-b9f9-6363f8a8b227"
      },
      "outputs": [
        {
          "output_type": "stream",
          "name": "stdout",
          "text": [
            "<class 'pandas.core.frame.DataFrame'>\n",
            "RangeIndex: 1038 entries, 0 to 1037\n",
            "Data columns (total 28 columns):\n",
            " #   Column                  Non-Null Count  Dtype  \n",
            "---  ------                  --------------  -----  \n",
            " 0   country_code            1038 non-null   int64  \n",
            " 1   workplace_type          1038 non-null   int64  \n",
            " 2   experience_level        1038 non-null   int64  \n",
            " 3   remote                  1038 non-null   bool   \n",
            " 4   skill_aws               1038 non-null   int64  \n",
            " 5   skill_azure             1038 non-null   int64  \n",
            " 6   skill_big data          1038 non-null   int64  \n",
            " 7   skill_data              1038 non-null   int64  \n",
            " 8   skill_databricks        1038 non-null   int64  \n",
            " 9   skill_dwh               1038 non-null   int64  \n",
            " 10  skill_english           1038 non-null   int64  \n",
            " 11  skill_etl               1038 non-null   int64  \n",
            " 12  skill_java              1038 non-null   int64  \n",
            " 13  skill_machine learning  1038 non-null   int64  \n",
            " 14  skill_oracle            1038 non-null   int64  \n",
            " 15  skill_pl/sql            1038 non-null   int64  \n",
            " 16  skill_postgresql        1038 non-null   int64  \n",
            " 17  skill_power bi          1038 non-null   int64  \n",
            " 18  skill_python            1038 non-null   int64  \n",
            " 19  skill_scala             1038 non-null   int64  \n",
            " 20  skill_snowflake         1038 non-null   int64  \n",
            " 21  skill_spark             1038 non-null   int64  \n",
            " 22  skill_sql               1038 non-null   int64  \n",
            " 23  skill_tableau           1038 non-null   int64  \n",
            " 24  type                    1038 non-null   int64  \n",
            " 25  from                    714 non-null    float64\n",
            " 26  to                      714 non-null    float64\n",
            " 27  avg_company_size        1035 non-null   float64\n",
            "dtypes: bool(1), float64(3), int64(24)\n",
            "memory usage: 220.1 KB\n"
          ]
        }
      ],
      "source": [
        "df_reg_limit.info()"
      ]
    },
    {
      "cell_type": "code",
      "execution_count": 19,
      "metadata": {
        "id": "3W00BbbiHW2l",
        "colab": {
          "base_uri": "https://localhost:8080/"
        },
        "outputId": "61ab2fa8-2130-4bca-d4c2-290de4184ca1"
      },
      "outputs": [
        {
          "output_type": "stream",
          "name": "stdout",
          "text": [
            "<class 'pandas.core.frame.DataFrame'>\n",
            "RangeIndex: 324 entries, 0 to 323\n",
            "Data columns (total 28 columns):\n",
            " #   Column                  Non-Null Count  Dtype  \n",
            "---  ------                  --------------  -----  \n",
            " 0   country_code            324 non-null    int64  \n",
            " 1   workplace_type          324 non-null    int64  \n",
            " 2   experience_level        324 non-null    int64  \n",
            " 3   remote                  324 non-null    bool   \n",
            " 4   skill_aws               324 non-null    int64  \n",
            " 5   skill_azure             324 non-null    int64  \n",
            " 6   skill_big data          324 non-null    int64  \n",
            " 7   skill_data              324 non-null    int64  \n",
            " 8   skill_databricks        324 non-null    int64  \n",
            " 9   skill_dwh               324 non-null    int64  \n",
            " 10  skill_english           324 non-null    int64  \n",
            " 11  skill_etl               324 non-null    int64  \n",
            " 12  skill_java              324 non-null    int64  \n",
            " 13  skill_machine learning  324 non-null    int64  \n",
            " 14  skill_oracle            324 non-null    int64  \n",
            " 15  skill_pl/sql            324 non-null    int64  \n",
            " 16  skill_postgresql        324 non-null    int64  \n",
            " 17  skill_power bi          324 non-null    int64  \n",
            " 18  skill_python            324 non-null    int64  \n",
            " 19  skill_scala             324 non-null    int64  \n",
            " 20  skill_snowflake         324 non-null    int64  \n",
            " 21  skill_spark             324 non-null    int64  \n",
            " 22  skill_sql               324 non-null    int64  \n",
            " 23  skill_tableau           324 non-null    int64  \n",
            " 24  type                    324 non-null    int64  \n",
            " 25  from                    0 non-null      float64\n",
            " 26  to                      0 non-null      float64\n",
            " 27  avg_company_size        321 non-null    float64\n",
            "dtypes: bool(1), float64(3), int64(24)\n",
            "memory usage: 68.8 KB\n",
            "<class 'pandas.core.frame.DataFrame'>\n",
            "RangeIndex: 714 entries, 0 to 713\n",
            "Data columns (total 28 columns):\n",
            " #   Column                  Non-Null Count  Dtype  \n",
            "---  ------                  --------------  -----  \n",
            " 0   country_code            714 non-null    int64  \n",
            " 1   workplace_type          714 non-null    int64  \n",
            " 2   experience_level        714 non-null    int64  \n",
            " 3   remote                  714 non-null    bool   \n",
            " 4   skill_aws               714 non-null    int64  \n",
            " 5   skill_azure             714 non-null    int64  \n",
            " 6   skill_big data          714 non-null    int64  \n",
            " 7   skill_data              714 non-null    int64  \n",
            " 8   skill_databricks        714 non-null    int64  \n",
            " 9   skill_dwh               714 non-null    int64  \n",
            " 10  skill_english           714 non-null    int64  \n",
            " 11  skill_etl               714 non-null    int64  \n",
            " 12  skill_java              714 non-null    int64  \n",
            " 13  skill_machine learning  714 non-null    int64  \n",
            " 14  skill_oracle            714 non-null    int64  \n",
            " 15  skill_pl/sql            714 non-null    int64  \n",
            " 16  skill_postgresql        714 non-null    int64  \n",
            " 17  skill_power bi          714 non-null    int64  \n",
            " 18  skill_python            714 non-null    int64  \n",
            " 19  skill_scala             714 non-null    int64  \n",
            " 20  skill_snowflake         714 non-null    int64  \n",
            " 21  skill_spark             714 non-null    int64  \n",
            " 22  skill_sql               714 non-null    int64  \n",
            " 23  skill_tableau           714 non-null    int64  \n",
            " 24  type                    714 non-null    int64  \n",
            " 25  from                    714 non-null    float64\n",
            " 26  to                      714 non-null    float64\n",
            " 27  avg_company_size        714 non-null    float64\n",
            "dtypes: bool(1), float64(3), int64(24)\n",
            "memory usage: 151.4 KB\n"
          ]
        }
      ],
      "source": [
        "# extract rows with no salary information\n",
        "df_no_salaries = df_reg_limit[df_reg_limit['to'].isna()].reset_index(drop=True)\n",
        "df_no_salaries.info()\n",
        "\n",
        "# extract rows with salary information\n",
        "df_salaries = df_reg_limit[df_reg_limit['to'].notna()].reset_index(drop=True)\n",
        "df_salaries.info()"
      ]
    },
    {
      "cell_type": "code",
      "execution_count": 20,
      "metadata": {
        "id": "QqfMIvJrbAst",
        "colab": {
          "base_uri": "https://localhost:8080/",
          "height": 273
        },
        "outputId": "12c61fd5-7c45-4389-f423-489c5bef829f"
      },
      "outputs": [
        {
          "output_type": "execute_result",
          "data": {
            "text/plain": [
              "     country_code  workplace_type  experience_level  remote  skill_aws  \\\n",
              "626             6               0                 0   False          0   \n",
              "369             6               1                 0   False          0   \n",
              "359             6               0                 0   False          0   \n",
              "539             6               2                 0    True          0   \n",
              "248             6               1                 0   False          0   \n",
              "\n",
              "     skill_azure  skill_big data  skill_data  skill_databricks  skill_dwh  \\\n",
              "626            0               0           0                 0          0   \n",
              "369            0               0           0                 0          0   \n",
              "359            0               0           0                 0          0   \n",
              "539            0               0           0                 0          0   \n",
              "248            0               0           3                 0          0   \n",
              "\n",
              "     ...  skill_python  skill_scala  skill_snowflake  skill_spark  skill_sql  \\\n",
              "626  ...             0            0                0            0          1   \n",
              "369  ...             0            0                0            0          3   \n",
              "359  ...             0            0                0            0          1   \n",
              "539  ...             0            0                0            0          2   \n",
              "248  ...             0            0                0            0          0   \n",
              "\n",
              "     skill_tableau  type    from      to  avg_company_size  \n",
              "626              0     2  3600.0  5090.0              75.0  \n",
              "369              0     2  4000.0  7000.0              25.0  \n",
              "359              0     0  4337.0  6133.0              75.0  \n",
              "539              0     1  4500.0  5000.0            1000.0  \n",
              "248              0     2  4500.0  5500.0              87.0  \n",
              "\n",
              "[5 rows x 28 columns]"
            ],
            "text/html": [
              "\n",
              "  <div id=\"df-ab6a1c08-8bc1-42fe-8e27-8f0595ee3c6d\" class=\"colab-df-container\">\n",
              "    <div>\n",
              "<style scoped>\n",
              "    .dataframe tbody tr th:only-of-type {\n",
              "        vertical-align: middle;\n",
              "    }\n",
              "\n",
              "    .dataframe tbody tr th {\n",
              "        vertical-align: top;\n",
              "    }\n",
              "\n",
              "    .dataframe thead th {\n",
              "        text-align: right;\n",
              "    }\n",
              "</style>\n",
              "<table border=\"1\" class=\"dataframe\">\n",
              "  <thead>\n",
              "    <tr style=\"text-align: right;\">\n",
              "      <th></th>\n",
              "      <th>country_code</th>\n",
              "      <th>workplace_type</th>\n",
              "      <th>experience_level</th>\n",
              "      <th>remote</th>\n",
              "      <th>skill_aws</th>\n",
              "      <th>skill_azure</th>\n",
              "      <th>skill_big data</th>\n",
              "      <th>skill_data</th>\n",
              "      <th>skill_databricks</th>\n",
              "      <th>skill_dwh</th>\n",
              "      <th>...</th>\n",
              "      <th>skill_python</th>\n",
              "      <th>skill_scala</th>\n",
              "      <th>skill_snowflake</th>\n",
              "      <th>skill_spark</th>\n",
              "      <th>skill_sql</th>\n",
              "      <th>skill_tableau</th>\n",
              "      <th>type</th>\n",
              "      <th>from</th>\n",
              "      <th>to</th>\n",
              "      <th>avg_company_size</th>\n",
              "    </tr>\n",
              "  </thead>\n",
              "  <tbody>\n",
              "    <tr>\n",
              "      <th>626</th>\n",
              "      <td>6</td>\n",
              "      <td>0</td>\n",
              "      <td>0</td>\n",
              "      <td>False</td>\n",
              "      <td>0</td>\n",
              "      <td>0</td>\n",
              "      <td>0</td>\n",
              "      <td>0</td>\n",
              "      <td>0</td>\n",
              "      <td>0</td>\n",
              "      <td>...</td>\n",
              "      <td>0</td>\n",
              "      <td>0</td>\n",
              "      <td>0</td>\n",
              "      <td>0</td>\n",
              "      <td>1</td>\n",
              "      <td>0</td>\n",
              "      <td>2</td>\n",
              "      <td>3600.0</td>\n",
              "      <td>5090.0</td>\n",
              "      <td>75.0</td>\n",
              "    </tr>\n",
              "    <tr>\n",
              "      <th>369</th>\n",
              "      <td>6</td>\n",
              "      <td>1</td>\n",
              "      <td>0</td>\n",
              "      <td>False</td>\n",
              "      <td>0</td>\n",
              "      <td>0</td>\n",
              "      <td>0</td>\n",
              "      <td>0</td>\n",
              "      <td>0</td>\n",
              "      <td>0</td>\n",
              "      <td>...</td>\n",
              "      <td>0</td>\n",
              "      <td>0</td>\n",
              "      <td>0</td>\n",
              "      <td>0</td>\n",
              "      <td>3</td>\n",
              "      <td>0</td>\n",
              "      <td>2</td>\n",
              "      <td>4000.0</td>\n",
              "      <td>7000.0</td>\n",
              "      <td>25.0</td>\n",
              "    </tr>\n",
              "    <tr>\n",
              "      <th>359</th>\n",
              "      <td>6</td>\n",
              "      <td>0</td>\n",
              "      <td>0</td>\n",
              "      <td>False</td>\n",
              "      <td>0</td>\n",
              "      <td>0</td>\n",
              "      <td>0</td>\n",
              "      <td>0</td>\n",
              "      <td>0</td>\n",
              "      <td>0</td>\n",
              "      <td>...</td>\n",
              "      <td>0</td>\n",
              "      <td>0</td>\n",
              "      <td>0</td>\n",
              "      <td>0</td>\n",
              "      <td>1</td>\n",
              "      <td>0</td>\n",
              "      <td>0</td>\n",
              "      <td>4337.0</td>\n",
              "      <td>6133.0</td>\n",
              "      <td>75.0</td>\n",
              "    </tr>\n",
              "    <tr>\n",
              "      <th>539</th>\n",
              "      <td>6</td>\n",
              "      <td>2</td>\n",
              "      <td>0</td>\n",
              "      <td>True</td>\n",
              "      <td>0</td>\n",
              "      <td>0</td>\n",
              "      <td>0</td>\n",
              "      <td>0</td>\n",
              "      <td>0</td>\n",
              "      <td>0</td>\n",
              "      <td>...</td>\n",
              "      <td>0</td>\n",
              "      <td>0</td>\n",
              "      <td>0</td>\n",
              "      <td>0</td>\n",
              "      <td>2</td>\n",
              "      <td>0</td>\n",
              "      <td>1</td>\n",
              "      <td>4500.0</td>\n",
              "      <td>5000.0</td>\n",
              "      <td>1000.0</td>\n",
              "    </tr>\n",
              "    <tr>\n",
              "      <th>248</th>\n",
              "      <td>6</td>\n",
              "      <td>1</td>\n",
              "      <td>0</td>\n",
              "      <td>False</td>\n",
              "      <td>0</td>\n",
              "      <td>0</td>\n",
              "      <td>0</td>\n",
              "      <td>3</td>\n",
              "      <td>0</td>\n",
              "      <td>0</td>\n",
              "      <td>...</td>\n",
              "      <td>0</td>\n",
              "      <td>0</td>\n",
              "      <td>0</td>\n",
              "      <td>0</td>\n",
              "      <td>0</td>\n",
              "      <td>0</td>\n",
              "      <td>2</td>\n",
              "      <td>4500.0</td>\n",
              "      <td>5500.0</td>\n",
              "      <td>87.0</td>\n",
              "    </tr>\n",
              "  </tbody>\n",
              "</table>\n",
              "<p>5 rows × 28 columns</p>\n",
              "</div>\n",
              "    <div class=\"colab-df-buttons\">\n",
              "\n",
              "  <div class=\"colab-df-container\">\n",
              "    <button class=\"colab-df-convert\" onclick=\"convertToInteractive('df-ab6a1c08-8bc1-42fe-8e27-8f0595ee3c6d')\"\n",
              "            title=\"Convert this dataframe to an interactive table.\"\n",
              "            style=\"display:none;\">\n",
              "\n",
              "  <svg xmlns=\"http://www.w3.org/2000/svg\" height=\"24px\" viewBox=\"0 -960 960 960\">\n",
              "    <path d=\"M120-120v-720h720v720H120Zm60-500h600v-160H180v160Zm220 220h160v-160H400v160Zm0 220h160v-160H400v160ZM180-400h160v-160H180v160Zm440 0h160v-160H620v160ZM180-180h160v-160H180v160Zm440 0h160v-160H620v160Z\"/>\n",
              "  </svg>\n",
              "    </button>\n",
              "\n",
              "  <style>\n",
              "    .colab-df-container {\n",
              "      display:flex;\n",
              "      gap: 12px;\n",
              "    }\n",
              "\n",
              "    .colab-df-convert {\n",
              "      background-color: #E8F0FE;\n",
              "      border: none;\n",
              "      border-radius: 50%;\n",
              "      cursor: pointer;\n",
              "      display: none;\n",
              "      fill: #1967D2;\n",
              "      height: 32px;\n",
              "      padding: 0 0 0 0;\n",
              "      width: 32px;\n",
              "    }\n",
              "\n",
              "    .colab-df-convert:hover {\n",
              "      background-color: #E2EBFA;\n",
              "      box-shadow: 0px 1px 2px rgba(60, 64, 67, 0.3), 0px 1px 3px 1px rgba(60, 64, 67, 0.15);\n",
              "      fill: #174EA6;\n",
              "    }\n",
              "\n",
              "    .colab-df-buttons div {\n",
              "      margin-bottom: 4px;\n",
              "    }\n",
              "\n",
              "    [theme=dark] .colab-df-convert {\n",
              "      background-color: #3B4455;\n",
              "      fill: #D2E3FC;\n",
              "    }\n",
              "\n",
              "    [theme=dark] .colab-df-convert:hover {\n",
              "      background-color: #434B5C;\n",
              "      box-shadow: 0px 1px 3px 1px rgba(0, 0, 0, 0.15);\n",
              "      filter: drop-shadow(0px 1px 2px rgba(0, 0, 0, 0.3));\n",
              "      fill: #FFFFFF;\n",
              "    }\n",
              "  </style>\n",
              "\n",
              "    <script>\n",
              "      const buttonEl =\n",
              "        document.querySelector('#df-ab6a1c08-8bc1-42fe-8e27-8f0595ee3c6d button.colab-df-convert');\n",
              "      buttonEl.style.display =\n",
              "        google.colab.kernel.accessAllowed ? 'block' : 'none';\n",
              "\n",
              "      async function convertToInteractive(key) {\n",
              "        const element = document.querySelector('#df-ab6a1c08-8bc1-42fe-8e27-8f0595ee3c6d');\n",
              "        const dataTable =\n",
              "          await google.colab.kernel.invokeFunction('convertToInteractive',\n",
              "                                                    [key], {});\n",
              "        if (!dataTable) return;\n",
              "\n",
              "        const docLinkHtml = 'Like what you see? Visit the ' +\n",
              "          '<a target=\"_blank\" href=https://colab.research.google.com/notebooks/data_table.ipynb>data table notebook</a>'\n",
              "          + ' to learn more about interactive tables.';\n",
              "        element.innerHTML = '';\n",
              "        dataTable['output_type'] = 'display_data';\n",
              "        await google.colab.output.renderOutput(dataTable, element);\n",
              "        const docLink = document.createElement('div');\n",
              "        docLink.innerHTML = docLinkHtml;\n",
              "        element.appendChild(docLink);\n",
              "      }\n",
              "    </script>\n",
              "  </div>\n",
              "\n",
              "\n",
              "<div id=\"df-df7829a0-07f6-46a1-8114-89a7a9dd4083\">\n",
              "  <button class=\"colab-df-quickchart\" onclick=\"quickchart('df-df7829a0-07f6-46a1-8114-89a7a9dd4083')\"\n",
              "            title=\"Suggest charts.\"\n",
              "            style=\"display:none;\">\n",
              "\n",
              "<svg xmlns=\"http://www.w3.org/2000/svg\" height=\"24px\"viewBox=\"0 0 24 24\"\n",
              "     width=\"24px\">\n",
              "    <g>\n",
              "        <path d=\"M19 3H5c-1.1 0-2 .9-2 2v14c0 1.1.9 2 2 2h14c1.1 0 2-.9 2-2V5c0-1.1-.9-2-2-2zM9 17H7v-7h2v7zm4 0h-2V7h2v10zm4 0h-2v-4h2v4z\"/>\n",
              "    </g>\n",
              "</svg>\n",
              "  </button>\n",
              "\n",
              "<style>\n",
              "  .colab-df-quickchart {\n",
              "    background-color: #E8F0FE;\n",
              "    border: none;\n",
              "    border-radius: 50%;\n",
              "    cursor: pointer;\n",
              "    display: none;\n",
              "    fill: #1967D2;\n",
              "    height: 32px;\n",
              "    padding: 0 0 0 0;\n",
              "    width: 32px;\n",
              "  }\n",
              "\n",
              "  .colab-df-quickchart:hover {\n",
              "    background-color: #E2EBFA;\n",
              "    box-shadow: 0px 1px 2px rgba(60, 64, 67, 0.3), 0px 1px 3px 1px rgba(60, 64, 67, 0.15);\n",
              "    fill: #174EA6;\n",
              "  }\n",
              "\n",
              "  [theme=dark] .colab-df-quickchart {\n",
              "    background-color: #3B4455;\n",
              "    fill: #D2E3FC;\n",
              "  }\n",
              "\n",
              "  [theme=dark] .colab-df-quickchart:hover {\n",
              "    background-color: #434B5C;\n",
              "    box-shadow: 0px 1px 3px 1px rgba(0, 0, 0, 0.15);\n",
              "    filter: drop-shadow(0px 1px 2px rgba(0, 0, 0, 0.3));\n",
              "    fill: #FFFFFF;\n",
              "  }\n",
              "</style>\n",
              "\n",
              "  <script>\n",
              "    async function quickchart(key) {\n",
              "      const charts = await google.colab.kernel.invokeFunction(\n",
              "          'suggestCharts', [key], {});\n",
              "    }\n",
              "    (() => {\n",
              "      let quickchartButtonEl =\n",
              "        document.querySelector('#df-df7829a0-07f6-46a1-8114-89a7a9dd4083 button');\n",
              "      quickchartButtonEl.style.display =\n",
              "        google.colab.kernel.accessAllowed ? 'block' : 'none';\n",
              "    })();\n",
              "  </script>\n",
              "</div>\n",
              "    </div>\n",
              "  </div>\n"
            ]
          },
          "metadata": {},
          "execution_count": 20
        }
      ],
      "source": [
        "df_salaries_sorted = df_salaries.sort_values(by='from', ascending=True)\n",
        "df_salaries_sorted.head()"
      ]
    },
    {
      "cell_type": "markdown",
      "metadata": {
        "id": "u4Rl6-jVImQ7"
      },
      "source": [
        "### Salary_from: Random Forest + GridSearchCV"
      ]
    },
    {
      "cell_type": "code",
      "execution_count": 23,
      "metadata": {
        "id": "nxn9kWiuHXMI",
        "colab": {
          "base_uri": "https://localhost:8080/"
        },
        "outputId": "2c063ce0-e048-428c-b7d9-d13de8a0370d"
      },
      "outputs": [
        {
          "output_type": "stream",
          "name": "stdout",
          "text": [
            "Best Parameters: {'max_depth': None, 'min_samples_leaf': 1, 'min_samples_split': 2, 'n_estimators': 300}\n",
            "Regression Model Evaluation:\n",
            "===========================\n",
            "Mean Absolute Error (MAE): 588.36\n",
            "Mean Squared Error (MSE): 2651418.29\n",
            "Root Mean Squared Error (RMSE): 1628.32\n",
            "R-squared (R2): 0.95\n"
          ]
        }
      ],
      "source": [
        "# select X and y\n",
        "X_from = df_salaries_sorted.drop(columns=['from','to'])\n",
        "y_from = df_salaries_sorted['from']\n",
        "\n",
        "# normalize the data\n",
        "scl = StandardScaler()\n",
        "X_scaled_from = pd.DataFrame(scl.fit_transform(X_from), columns = X_from.columns)\n",
        "\n",
        "# split the dataset into training and test sets, salary_from and salary_to are investigated separately\n",
        "X_train_from, X_test_from, y_train_from, y_test_from = train_test_split(X_scaled_from, y_from, test_size=0.2)\n",
        "\n",
        "# Initialize the RandomForestRegressor model\n",
        "rf_regressor = RandomForestRegressor()\n",
        "\n",
        "# Define the parameter grid for the grid search\n",
        "param_grid = {\n",
        "    'n_estimators': [100, 200, 300],\n",
        "    'max_depth': [None, 10, 20],\n",
        "    'min_samples_split': [2, 5, 10],\n",
        "    'min_samples_leaf': [1, 2, 4]\n",
        "}\n",
        "\n",
        "# Create a GridSearchCV object\n",
        "gs_from = GridSearchCV(estimator=rf_regressor, param_grid=param_grid, cv=5, n_jobs=-1, scoring='neg_mean_absolute_error')\n",
        "\n",
        "# Fit the GridSearchCV object to the training data\n",
        "gs_from.fit(X_train_from, y_train_from)\n",
        "\n",
        "# Get the best model with tuned hyperparameters\n",
        "best_model_from = gs_from.best_estimator_\n",
        "\n",
        "# Print best parameters\n",
        "print(\"Best Parameters:\", gs_from.best_params_)\n",
        "\n",
        "# Predict on the test set\n",
        "y_pred_from = best_model_from.predict(X_test_from)\n",
        "\n",
        "# Evaluate the best model\n",
        "evaluate_regression_model(best_model_from, X_test_from, y_test_from)"
      ]
    },
    {
      "cell_type": "markdown",
      "source": [
        "### Salary_from: comparision of real and predicted y for train and test set"
      ],
      "metadata": {
        "id": "4rBa2C_uBQUz"
      }
    },
    {
      "cell_type": "code",
      "source": [
        "# df with real and predicted y for the train set\n",
        "y_pred_train_from = best_model_from.predict(X_train_from)\n",
        "df_train_from = {'y_train': y_train_from, 'y_pred_train': y_pred_train_from, 'train_diff': y_train_from-y_pred_train_from}\n",
        "df_train_from = pd.DataFrame(df_train_from)\n",
        "df_train_from.sort_values(by = 'y_train', inplace = True)\n",
        "\n",
        "# df with real and predicted y for the test set\n",
        "y_pred_test_from = best_model_from.predict(X_test_from)\n",
        "df_test_from = {'y_test': y_test_from, 'y_pred_test': y_pred_test_from, 'test_diff': y_test_from-y_pred_test_from}\n",
        "df_test_from = pd.DataFrame(df_test_from)\n",
        "df_test_from.sort_values(by = 'y_test', inplace = True)\n",
        "\n",
        "# plot\n",
        "figure, axis = plt.subplots(2, 2, figsize=(16, 10), sharey = 'row')\n",
        "\n",
        "length_train_from = range(len(df_train_from))\n",
        "length_test_from = range(len(df_test_from))\n",
        "\n",
        "# Salary_from: y_train v. y_pred\n",
        "axis[0, 0].scatter(length_train_from, df_train_from['y_train'], marker = '.', label = 'y_train')\n",
        "axis[0, 0].scatter(length_train_from, df_train_from['y_pred_train'], marker = '.', label = 'y_pred')\n",
        "axis[0, 0].legend()\n",
        "axis[0, 0].set_title(\"Salary_from: y_train v. y_pred\")\n",
        "axis[0, 0].set_xlabel('Row Number')\n",
        "axis[0, 0].set_ylabel('y')\n",
        "\n",
        "# Salary_from: y_train - y_pred\n",
        "axis[1, 0].scatter(length_train_from, df_train_from['train_diff'], marker = '.')\n",
        "axis[1, 0].set_title(\"Salary_from: y_train - y_pred\")\n",
        "axis[1, 0].set_xlabel('Row Number')\n",
        "axis[1, 0].set_ylabel('diff')\n",
        "\n",
        "# Salary_from: y_test v. y_pred\n",
        "axis[0, 1].scatter(length_test_from, df_test_from['y_test'], marker = '.', label = 'y_train')\n",
        "axis[0, 1].scatter(length_test_from, df_test_from['y_pred_test'], marker = '.', label = 'y_pred')\n",
        "axis[0, 1].legend()\n",
        "axis[0, 1].set_title(\"Salary_from: y_test v. y_pred\")\n",
        "axis[0, 1].set_xlabel('Row Number')\n",
        "axis[0, 1].set_ylabel('y')\n",
        "\n",
        "# Salary_from: y_test - y_pred\n",
        "axis[1, 1].scatter(length_test_from, df_test_from['test_diff'], marker = '.')\n",
        "axis[1, 1].set_title(\"Salary_from: y_test - y_pred\")\n",
        "axis[1, 1].set_xlabel('Row Number')\n",
        "axis[1, 1].set_ylabel('diff')\n",
        "\n",
        "plt.show()"
      ],
      "metadata": {
        "id": "_hLLcr_f9T4h",
        "colab": {
          "base_uri": "https://localhost:8080/",
          "height": 718
        },
        "outputId": "d001dbc0-48ce-407e-f861-1f478a3c0bb2"
      },
      "execution_count": 53,
      "outputs": [
        {
          "output_type": "display_data",
          "data": {
            "text/plain": [
              "<Figure size 1600x1000 with 4 Axes>"
            ],
            "image/png": "[encoded data removed]"
          },
          "metadata": {}
        }
      ]
    },
    {
      "cell_type": "markdown",
      "source": [
        "### Salary_to: Random Forest + **GridSearchCV**"
      ],
      "metadata": {
        "id": "dIPOTk7b9Hz7"
      }
    },
    {
      "cell_type": "code",
      "source": [
        "# select X and y\n",
        "X_to = df_salaries.drop(columns=['from','to'])\n",
        "y_to = df_salaries['to']\n",
        "\n",
        "# normalize the data\n",
        "scl = StandardScaler()\n",
        "X_scaled_to = pd.DataFrame(scl.fit_transform(X_to), columns = X_to.columns)\n",
        "\n",
        "# split the dataset into training and test sets, salary_from and salary_to are investigated separately\n",
        "X_train_to, X_test_to, y_train_to, y_test_to = train_test_split(X_scaled_to, y_to, test_size=0.2)\n",
        "\n",
        "# Initialize the RandomForestRegressor model\n",
        "rf_regressor = RandomForestRegressor()\n",
        "\n",
        "# Define the parameter grid for the grid search\n",
        "param_grid = {\n",
        "    'n_estimators': [100, 200, 300],\n",
        "    'max_depth': [None, 10, 20],\n",
        "    'min_samples_split': [2, 5, 10],\n",
        "    'min_samples_leaf': [1, 2, 4]\n",
        "}\n",
        "\n",
        "# Create a GridSearchCV object\n",
        "gs_to = GridSearchCV(estimator=rf_regressor, param_grid=param_grid, cv=5, n_jobs=-1, scoring='neg_mean_absolute_error')\n",
        "\n",
        "# Fit the GridSearchCV object to the training data\n",
        "gs_to.fit(X_train_to, y_train_to)\n",
        "\n",
        "# Get the best model with tuned hyperparameters\n",
        "best_model_to = gs_to.best_estimator_\n",
        "\n",
        "# Print best parameters\n",
        "print(\"Best Parameters:\", gs_to.best_params_)\n",
        "\n",
        "# Evaluate the best model\n",
        "evaluate_regression_model(best_model_to, X_test_to, y_test_to)"
      ],
      "metadata": {
        "colab": {
          "base_uri": "https://localhost:8080/"
        },
        "id": "1cKc60R3pfiq",
        "outputId": "4016e120-f819-41e4-ac3a-a14f38f3f19f"
      },
      "execution_count": 43,
      "outputs": [
        {
          "output_type": "stream",
          "name": "stdout",
          "text": [
            "Best Parameters: {'max_depth': 20, 'min_samples_leaf': 1, 'min_samples_split': 2, 'n_estimators': 100}\n",
            "Regression Model Evaluation:\n",
            "===========================\n",
            "Mean Absolute Error (MAE): 596.94\n",
            "Mean Squared Error (MSE): 2573770.67\n",
            "Root Mean Squared Error (RMSE): 1604.30\n",
            "R-squared (R2): 0.96\n"
          ]
        }
      ]
    },
    {
      "cell_type": "markdown",
      "source": [
        "### Salary_to: comparision of real and predicted y for train and test set"
      ],
      "metadata": {
        "id": "USXFaRg7Dci7"
      }
    },
    {
      "cell_type": "code",
      "source": [
        "# df with real and predicted y for the train set\n",
        "y_pred_train_to = best_model_to.predict(X_train_to)\n",
        "df_train_to = {'y_train': y_train_to, 'y_pred_train': y_pred_train_to, 'train_diff': y_train_to-y_pred_train_to}\n",
        "df_train_to = pd.DataFrame(df_train_to)\n",
        "df_train_to.sort_values(by = 'y_train', inplace = True)\n",
        "\n",
        "# df with real and predicted y for the test set\n",
        "y_pred_test_to = best_model_to.predict(X_test_to)\n",
        "df_test_to = {'y_test': y_test_to, 'y_pred_test': y_pred_test_to, 'test_diff': y_test_to-y_pred_test_to}\n",
        "df_test_to = pd.DataFrame(df_test_to)\n",
        "df_test_to.sort_values(by = 'y_test', inplace = True)\n",
        "\n",
        "# plot\n",
        "figure, axis = plt.subplots(2, 2, figsize=(16, 10), sharey = 'row')\n",
        "\n",
        "length_train_to = range(len(df_train_to))\n",
        "length_test_to = range(len(df_test_to))\n",
        "\n",
        "# Salary_to: y_train v. y_pred\n",
        "axis[0, 0].scatter(length_train_to, df_train_to['y_train'], marker = '.', label = 'y_train')\n",
        "axis[0, 0].scatter(length_train_to, df_train_to['y_pred_train'], marker = '.', label = 'y_pred')\n",
        "axis[0, 0].legend()\n",
        "axis[0, 0].set_title(\"Salary_to: y_train v. y_pred\")\n",
        "axis[0, 0].set_xlabel('Row Number')\n",
        "axis[0, 0].set_ylabel('y')\n",
        "\n",
        "# Salary_to: y_train - y_pred\n",
        "axis[1, 0].scatter(length_train_to, df_train_to['train_diff'], marker = '.')\n",
        "axis[1, 0].set_title(\"Salary_to: y_train - y_pred\")\n",
        "axis[1, 0].set_xlabel('Row Number')\n",
        "axis[1, 0].set_ylabel('diff')\n",
        "\n",
        "# Salary_to: y_test v. y_pred\n",
        "axis[0, 1].scatter(length_test_to, df_test_to['y_test'], marker = '.', label = 'y_train')\n",
        "axis[0, 1].scatter(length_test_to, df_test_to['y_pred_test'], marker = '.', label = 'y_pred')\n",
        "axis[0, 1].legend()\n",
        "axis[0, 1].set_title(\"Salary_to: y_test v. y_pred\")\n",
        "axis[0, 1].set_xlabel('Row Number')\n",
        "axis[0, 1].set_ylabel('y')\n",
        "\n",
        "# Salary_to: y_test - y_pred\n",
        "axis[1, 1].scatter(length_test_to, df_test_to['test_diff'], marker = '.')\n",
        "axis[1, 1].set_title(\"Salary_to: y_test - y_pred\")\n",
        "axis[1, 1].set_xlabel('Row Number')\n",
        "axis[1, 1].set_ylabel('diff')\n",
        "\n",
        "plt.show()"
      ],
      "metadata": {
        "colab": {
          "base_uri": "https://localhost:8080/",
          "height": 723
        },
        "id": "Jbx6Yt037a92",
        "outputId": "28b554a4-a084-4e9b-d72e-5a069a29e192"
      },
      "execution_count": 54,
      "outputs": [
        {
          "output_type": "display_data",
          "data": {
            "text/plain": [
              "<Figure size 1600x1000 with 4 Axes>"
            ],
            "image/png": "[encoded data removed]"
          },
          "metadata": {}
        }
      ]
    },
    {
      "cell_type": "markdown",
      "metadata": {
        "id": "eehoyGMy_b_K"
      },
      "source": [
        "##MAE distribution"
      ]
    },
    {
      "cell_type": "code",
      "execution_count": 90,
      "metadata": {
        "id": "vCXNSVWL_byS",
        "colab": {
          "base_uri": "https://localhost:8080/",
          "height": 451
        },
        "outputId": "c611d77d-15a9-4c02-a4ca-f4adc0bbef98"
      },
      "outputs": [
        {
          "output_type": "execute_result",
          "data": {
            "text/plain": [
              "<Axes: ylabel='Count'>"
            ]
          },
          "metadata": {},
          "execution_count": 90
        },
        {
          "output_type": "display_data",
          "data": {
            "text/plain": [
              "<Figure size 640x480 with 1 Axes>"
            ],
            "image/png": "[encoded data removed]"
          },
          "metadata": {}
        }
      ],
      "source": [
        "mae_from = []\n",
        "\n",
        "for i in range(1000):\n",
        "\n",
        "    model_from = RandomForestRegressor(max_depth = None, min_samples_leaf= 1, min_samples_split= 2, n_estimators= 300)\n",
        "    # model_from = RandomForestRegressor(best_model_from.get_params())\n",
        "    model_from.fit(X_train_from, y_train_from)\n",
        "\n",
        "    mae_from.append(mean_absolute_error(y_test_from, model_from.predict(X_test_from)))\n",
        "\n",
        "sns.set_style(\"darkgrid\")\n",
        "sns.histplot(mae_from)"
      ]
    },
    {
      "cell_type": "code",
      "source": [
        "from sklearn import model_selection\n",
        "mae_to = []\n",
        "\n",
        "for i in range(1000):\n",
        "\n",
        "    model_to = RandomForestRegressor(max_depth = 20, min_samples_leaf= 1, min_samples_split= 2, n_estimators= 100)\n",
        "    # model_to = RandomForestRegressor(best_model_to.get_params())\n",
        "    model_to.fit(X_train_to, y_train_to)\n",
        "\n",
        "    mae_to.append(mean_absolute_error(y_test_to, model_to.predict(X_test_to)))\n",
        "\n",
        "sns.set_style(\"darkgrid\")\n",
        "sns.histplot(mae_to)"
      ],
      "metadata": {
        "colab": {
          "base_uri": "https://localhost:8080/",
          "height": 451
        },
        "id": "xTxgMK17Fq9m",
        "outputId": "6b55442b-5b0a-4695-80f4-ed131e957f8a"
      },
      "execution_count": 91,
      "outputs": [
        {
          "output_type": "execute_result",
          "data": {
            "text/plain": [
              "<Axes: ylabel='Count'>"
            ]
          },
          "metadata": {},
          "execution_count": 91
        },
        {
          "output_type": "display_data",
          "data": {
            "text/plain": [
              "<Figure size 640x480 with 1 Axes>"
            ],
            "image/png": "[encoded data removed]"
          },
          "metadata": {}
        }
      ]
    },
    {
      "cell_type": "code",
      "execution_count": null,
      "metadata": {
        "id": "0lrHK4038Tzl"
      },
      "outputs": [],
      "source": [
        "# saving model\n",
        "import sklearn\n",
        "scikit_version = sklearn.__version__\n",
        "print(scikit_version)\n",
        "\n",
        "joblib.dump(best_model_from, f\"best_model_from_{scikit_version}.pkl\")\n",
        "joblib.dump(best_model_to, f\"best_model_to_{scikit_version}.pkl\")"
      ]
    },
    {
      "cell_type": "markdown",
      "metadata": {
        "id": "MCTtNlIR0SPA"
      },
      "source": [
        "# Reading job offer and preparing the data"
      ]
    },
    {
      "cell_type": "code",
      "execution_count": null,
      "metadata": {
        "id": "fl166Irt0YQr"
      },
      "outputs": [],
      "source": [
        "job_offer = 'https://justjoin.it/offers/opi-pib-analityk-danych-warszawa'\n",
        "job_offer_api = job_offer.replace(\"https://justjoin.it/offers/\", \"https://justjoin.it/api/offers/\")"
      ]
    },
    {
      "cell_type": "code",
      "execution_count": null,
      "metadata": {
        "id": "TMWJUTX_1Wq7"
      },
      "outputs": [],
      "source": [
        "response = requests.get(job_offer_api)\n",
        "job_data = response.json()"
      ]
    },
    {
      "cell_type": "code",
      "source": [
        "with open('output.txt', 'r') as file:\n",
        "    lines = file.readlines()\n",
        "    top_20_skills = [line.strip() for line in lines]\n",
        "\n",
        "print(top_20_skills)"
      ],
      "metadata": {
        "id": "6DsTdbbCpBKM"
      },
      "execution_count": null,
      "outputs": []
    },
    {
      "cell_type": "code",
      "source": [
        "offer_data = []\n",
        "\n",
        "for skill in job_data['skills']:\n",
        "    # print(skill['name'])\n",
        "    new_row = job_data.copy()\n",
        "    new_row['skill_name'] = skill['name']\n",
        "    new_row['skill_level'] = skill['level']\n",
        "    offer_data.append(new_row)\n",
        "\n",
        "\n",
        "offer_df = pd.DataFrame(offer_data)\n",
        "offer_df = standardize_text(offer_df, \"title\")\n",
        "offer_df = standardize_text(offer_df, \"skill_name\")\n",
        "\n",
        "offer_dummies = pd.DataFrame()\n",
        "\n",
        "for col_name in sorted(top_20_skills):\n",
        "    offer_dummies[\"skill_\" + col_name] = 0\n",
        "\n",
        "offer_dummies.loc[0] = 0"
      ],
      "metadata": {
        "id": "1Ts0PmqdpDGa"
      },
      "execution_count": null,
      "outputs": []
    },
    {
      "cell_type": "code",
      "source": [
        "final = []\n",
        "for skill in offer_df['skill_name']:\n",
        "    new_dummy = offer_dummies.copy()\n",
        "    if skill in top_20_skills:\n",
        "        new_dummy[f\"skill_{skill}\"] = 1\n",
        "    final.append(new_dummy)\n",
        "\n",
        "all_dummies = pd.concat(final, ignore_index=True)"
      ],
      "metadata": {
        "id": "9bCZ74KJpE_R"
      },
      "execution_count": null,
      "outputs": []
    },
    {
      "cell_type": "code",
      "source": [
        "\n",
        "\n",
        "\n",
        "for col in all_dummies.columns:\n",
        "    all_dummies[col] *=  common_skills_offer_df['skill_level']\n",
        "\n",
        "# Dołączanie kolumn dummies\n",
        "aggregated_offer_df = pd.concat([common_skills_offer_df, all_dummies], axis=1)\n",
        "\n",
        "def custom_agg(series):\n",
        "    if series.name.startswith('skill'):\n",
        "        return series.sum()\n",
        "    else:\n",
        "        return series.iat[0]\n",
        "\n",
        "\n",
        "aggregated_offer_df = aggregated_offer_df.drop('skill_name', axis=1)\n",
        "aggregated_offer_df = aggregated_offer_df.drop('skills', axis=1)\n",
        "\n",
        "# Grupowanie, agregacja i reset indeksu\n",
        "aggregated_offer_df = aggregated_offer_df.groupby('id', as_index=False).agg(custom_agg)\n",
        "aggregated_offer_df = aggregated_offer_df.drop('skill_level', axis=1)\n",
        "\n",
        "label_encoder = preprocessing.LabelEncoder()\n",
        "aggregated_offer_df['experience_level']= label_encoder.fit_transform(aggregated_offer_df['experience_level'])\n",
        "aggregated_offer_df['workplace_type']= label_encoder.fit_transform(aggregated_offer_df['workplace_type'])\n",
        "aggregated_offer_df['country_code']= label_encoder.fit_transform(aggregated_offer_df['country_code'])\n",
        "\n"
      ],
      "metadata": {
        "id": "4RaVsKpmpHcA"
      },
      "execution_count": null,
      "outputs": []
    },
    {
      "cell_type": "code",
      "source": [
        "offer_employment_types = aggregated_offer_df['employment_types'].apply(pd.Series)\n",
        "offer_employment_type = offer_employment_types[0].apply(pd.Series)\n",
        "offer_employment_type= pd.concat([offer_employment_type.drop(['salary'], axis=1),\n",
        "                                 offer_employment_type['salary'].apply(pd.Series)], axis=1)\n",
        "\n",
        "offer_no_employment = aggregated_offer_df.drop(columns = 'employment_types')\n",
        "offer_employment = pd.concat([offer_no_employment, offer_employment_type], axis = 1)\n",
        "\n",
        "offer_employment['type']= label_encoder.fit_transform(offer_employment['type'])\n",
        "\n",
        "offer_employment.reset_index(drop=True, inplace = True)\n",
        "\n",
        "company_size_offer = offer_employment[offer_employment['company_size'].str.contains('-')][['company_size']]\n",
        "\n",
        "company_size_offer['company_size_1'] = company_size_offer['company_size'].str.split('-').str[0]\n",
        "company_size_offer['company_size_2']  = company_size_offer['company_size'].str.split('-').str[-1]\n",
        "\n",
        "company_size_offer['company_size_1'] = pd.to_numeric(company_size_offer['company_size_1'])\n",
        "company_size_offer['company_size_2'] = pd.to_numeric(company_size_offer['company_size_2'])\n",
        "company_size_offer['avg_company_size'] = (company_size_offer['company_size_1'] + company_size_offer['company_size_2']) / 2\n",
        "\n",
        "company_size_offer = company_size_offer[['avg_company_size']]\n",
        "\n",
        "offer = pd.merge(offer_employment, company_size_offer, left_index=True, right_index=True, how = 'outer')\n",
        "\n",
        "offer['company_size'] = offer['company_size'].apply(remove_mark)\n",
        "offer['company_size'] = offer['company_size'].apply(remove_mark)\n",
        "offer['company_size'] = offer['company_size'].apply(remove_blanc)\n",
        "\n",
        "offer['avg_company_size'] = offer.apply(\n",
        "    lambda row: row['company_size'] if pd.isna(row['avg_company_size']) else row['avg_company_size'],\n",
        "    axis=1\n",
        ").astype('float')\n",
        "\n",
        "offer=offer.drop(columns = ['id', 'from', 'to', 'currency', 'apply_body', 'title', 'company_size', 'street', 'city', 'address_text', 'marker_icon', 'company_name', 'company_url', 'latitude', 'longitude', 'apply_url', 'published_at', 'remote_interview', 'video_key', 'video_provider', 'open_to_hire_ukrainians', 'future_consent_title', 'future_consent', 'information_clause', 'custom_consent_title', 'custom_consent', 'tags', 'body', 'company_logo_url', 'banner_url', 'multilocation'])\n",
        "\n",
        "offer_scaled = pd.DataFrame(scl.fit_transform(offer), columns = offer.columns)"
      ],
      "metadata": {
        "id": "wY_pKmHbpJj-"
      },
      "execution_count": null,
      "outputs": []
    },
    {
      "cell_type": "code",
      "source": [
        "# Predict on the test set\n",
        "pred = RF_model.predict(offer_scaled)\n",
        "print(pred)"
      ],
      "metadata": {
        "id": "yWAHMhRPpQIR"
      },
      "execution_count": null,
      "outputs": []
    }
  ],
  "metadata": {
    "colab": {
      "provenance": [],
      "collapsed_sections": [
        "MCTtNlIR0SPA"
      ]
    },
    "kernelspec": {
      "display_name": "Python 3",
      "name": "python3"
    },
    "language_info": {
      "name": "python"
    }
  },
  "nbformat": 4,
  "nbformat_minor": 0
}