{
 "cells": [
  {
   "cell_type": "code",
   "execution_count": 41,
   "id": "5b170ab7",
   "metadata": {},
   "outputs": [],
   "source": [
    "import pandas as pd\n",
    "import numpy as np\n",
    "import matplotlib.pyplot as plt\n",
    "import seaborn as sns\n",
    "\n",
    "import requests\n",
    "import json\n",
    "import time\n",
    "import joblib\n",
    "\n",
    "from sklearn import preprocessing\n",
    "from sklearn.feature_extraction.text import TfidfVectorizer\n",
    "from sklearn.ensemble import RandomForestRegressor\n",
    "from sklearn.model_selection import train_test_split\n",
    "from sklearn.model_selection import cross_val_score, KFold\n",
    "from sklearn.model_selection import GridSearchCV\n",
    "from sklearn import tree\n",
    "\n",
    "#from forex_python.converter import CurrencyRates\n",
    "\n",
    "###RandomizedSearchCV\n",
    "\n",
    "from sklearn.neighbors import KNeighborsRegressor\n",
    "from sklearn.metrics import mean_absolute_error, mean_squared_error, r2_score"
   ]
  },
  {
   "cell_type": "code",
   "execution_count": 16,
   "id": "47b4ef66",
   "metadata": {},
   "outputs": [],
   "source": [
    "def evaluate_regression_model(model, X_test, y_test):\n",
    "    \"\"\"\n",
    "    Evaluates the performance of a regression model and provides a summary.\n",
    "\n",
    "    Parameters:\n",
    "        model: A trained regression model from scikit-learn.\n",
    "        X_test: Test features.\n",
    "        y_test: Test labels.\n",
    "    \"\"\"\n",
    "    # Predictions on the test set\n",
    "    y_pred = model.predict(X_test)\n",
    "    \n",
    "    # Calculate metrics\n",
    "    mae = mean_absolute_error(y_test, y_pred)\n",
    "    mse = mean_squared_error(y_test, y_pred)\n",
    "    rmse = mean_squared_error(y_test, y_pred, squared=False)  # RMSE\n",
    "    r2 = r2_score(y_test, y_pred)\n",
    "    \n",
    "    # Display results\n",
    "    print(\"Regression Model Evaluation:\")\n",
    "    print(\"===========================\")\n",
    "    print(f\"Mean Absolute Error (MAE): {mae:.2f}\")\n",
    "    print(f\"Mean Squared Error (MSE): {mse:.2f}\")\n",
    "    print(f\"Root Mean Squared Error (RMSE): {rmse:.2f}\")\n",
    "    print(f\"R-squared (R2): {r2:.2f}\")"
   ]
  },
  {
   "cell_type": "code",
   "execution_count": 20,
   "id": "93a5cb10",
   "metadata": {},
   "outputs": [],
   "source": [
    "df = pd.read_csv('https://raw.githubusercontent.com/KKozakiewicz/predict_salaries/main/df_pln.csv')"
   ]
  },
  {
   "cell_type": "code",
   "execution_count": 21,
   "id": "2c38190e",
   "metadata": {},
   "outputs": [
    {
     "name": "stdout",
     "output_type": "stream",
     "text": [
      "<class 'pandas.core.frame.DataFrame'>\n",
      "RangeIndex: 1274 entries, 0 to 1273\n",
      "Data columns (total 54 columns):\n",
      " #   Column                        Non-Null Count  Dtype  \n",
      "---  ------                        --------------  -----  \n",
      " 0   title                         1274 non-null   object \n",
      " 1   street                        1274 non-null   object \n",
      " 2   city                          1274 non-null   object \n",
      " 3   address_text                  1274 non-null   object \n",
      " 4   marker_icon                   1274 non-null   object \n",
      " 5   company_name                  1274 non-null   object \n",
      " 6   company_url                   1274 non-null   object \n",
      " 7   company_size                  1274 non-null   int64  \n",
      " 8   experience_level              1274 non-null   int64  \n",
      " 9   latitude                      1274 non-null   float64\n",
      " 10  longitude                     1274 non-null   float64\n",
      " 11  published_at                  1274 non-null   object \n",
      " 12  remote_interview              1274 non-null   bool   \n",
      " 13  open_to_hire_ukrainians       1274 non-null   bool   \n",
      " 14  id                            1274 non-null   object \n",
      " 15  display_offer                 1274 non-null   bool   \n",
      " 16  company_logo_url              1274 non-null   object \n",
      " 17  skills                        1274 non-null   object \n",
      " 18  remote                        1274 non-null   bool   \n",
      " 19  multilocation                 1274 non-null   object \n",
      " 20  way_of_apply                  1274 non-null   object \n",
      " 21  from                          775 non-null    float64\n",
      " 22  to                            775 non-null    float64\n",
      " 23  currency                      775 non-null    object \n",
      " 24  AI                            1274 non-null   float64\n",
      " 25  AWS                           1274 non-null   float64\n",
      " 26  Analytical Thinking           1274 non-null   float64\n",
      " 27  BI                            1274 non-null   float64\n",
      " 28  Big Data                      1274 non-null   float64\n",
      " 29  DWH                           1274 non-null   float64\n",
      " 30  Data                          1274 non-null   float64\n",
      " 31  Databases                     1274 non-null   float64\n",
      " 32  ETL                           1274 non-null   float64\n",
      " 33  ETL tools                     1274 non-null   float64\n",
      " 34  Machine Learning              1274 non-null   float64\n",
      " 35  Oracle                        1274 non-null   float64\n",
      " 36  PL/SQL                        1274 non-null   float64\n",
      " 37  Power BI                      1274 non-null   float64\n",
      " 38  PySpark                       1274 non-null   float64\n",
      " 39  Python                        1274 non-null   float64\n",
      " 40  SQL                           1274 non-null   float64\n",
      " 41  Spark                         1274 non-null   float64\n",
      " 42  T-SQL                         1274 non-null   float64\n",
      " 43  Tableau                       1274 non-null   float64\n",
      " 44  type_mandate_contract         1274 non-null   int64  \n",
      " 45  type_permanent                1274 non-null   int64  \n",
      " 46  workplace_type_partly_remote  1274 non-null   int64  \n",
      " 47  workplace_type_remote         1274 non-null   int64  \n",
      " 48  country_code_DE               1274 non-null   int64  \n",
      " 49  country_code_EE               1274 non-null   int64  \n",
      " 50  country_code_MT               1274 non-null   int64  \n",
      " 51  country_code_PL               1274 non-null   int64  \n",
      " 52  country_code_UA               1274 non-null   int64  \n",
      " 53  avg_company_size              1274 non-null   float64\n",
      "dtypes: bool(4), float64(25), int64(11), object(14)\n",
      "memory usage: 502.8+ KB\n"
     ]
    }
   ],
   "source": [
    "df.info()"
   ]
  },
  {
   "cell_type": "code",
   "execution_count": 22,
   "id": "1a18feee",
   "metadata": {},
   "outputs": [],
   "source": [
    "#remove columns that won't be taken into consideration\n",
    "df=df.drop(columns = ['marker_icon','title','company_size', 'city','street','address_text','company_name','company_url', 'latitude','longitude', 'published_at','remote_interview', 'open_to_hire_ukrainians', 'id','display_offer', 'company_logo_url', 'skills','multilocation','way_of_apply', 'currency'  ])"
   ]
  },
  {
   "cell_type": "code",
   "execution_count": 23,
   "id": "e282f21c",
   "metadata": {},
   "outputs": [
    {
     "name": "stdout",
     "output_type": "stream",
     "text": [
      "<class 'pandas.core.frame.DataFrame'>\n",
      "RangeIndex: 499 entries, 0 to 498\n",
      "Data columns (total 35 columns):\n",
      " #   Column                        Non-Null Count  Dtype  \n",
      "---  ------                        --------------  -----  \n",
      " 0   index                         499 non-null    int64  \n",
      " 1   experience_level              499 non-null    int64  \n",
      " 2   remote                        499 non-null    bool   \n",
      " 3   from                          0 non-null      float64\n",
      " 4   to                            0 non-null      float64\n",
      " 5   AI                            499 non-null    float64\n",
      " 6   AWS                           499 non-null    float64\n",
      " 7   Analytical Thinking           499 non-null    float64\n",
      " 8   BI                            499 non-null    float64\n",
      " 9   Big Data                      499 non-null    float64\n",
      " 10  DWH                           499 non-null    float64\n",
      " 11  Data                          499 non-null    float64\n",
      " 12  Databases                     499 non-null    float64\n",
      " 13  ETL                           499 non-null    float64\n",
      " 14  ETL tools                     499 non-null    float64\n",
      " 15  Machine Learning              499 non-null    float64\n",
      " 16  Oracle                        499 non-null    float64\n",
      " 17  PL/SQL                        499 non-null    float64\n",
      " 18  Power BI                      499 non-null    float64\n",
      " 19  PySpark                       499 non-null    float64\n",
      " 20  Python                        499 non-null    float64\n",
      " 21  SQL                           499 non-null    float64\n",
      " 22  Spark                         499 non-null    float64\n",
      " 23  T-SQL                         499 non-null    float64\n",
      " 24  Tableau                       499 non-null    float64\n",
      " 25  type_mandate_contract         499 non-null    int64  \n",
      " 26  type_permanent                499 non-null    int64  \n",
      " 27  workplace_type_partly_remote  499 non-null    int64  \n",
      " 28  workplace_type_remote         499 non-null    int64  \n",
      " 29  country_code_DE               499 non-null    int64  \n",
      " 30  country_code_EE               499 non-null    int64  \n",
      " 31  country_code_MT               499 non-null    int64  \n",
      " 32  country_code_PL               499 non-null    int64  \n",
      " 33  country_code_UA               499 non-null    int64  \n",
      " 34  avg_company_size              499 non-null    float64\n",
      "dtypes: bool(1), float64(23), int64(11)\n",
      "memory usage: 133.2 KB\n"
     ]
    }
   ],
   "source": [
    "#extract rows with no salary information\n",
    "df_no_salaries = df[df['to'].isna()].reset_index()\n",
    "df_no_salaries.info()"
   ]
  },
  {
   "cell_type": "code",
   "execution_count": 24,
   "id": "30746426",
   "metadata": {},
   "outputs": [
    {
     "name": "stdout",
     "output_type": "stream",
     "text": [
      "<class 'pandas.core.frame.DataFrame'>\n",
      "RangeIndex: 775 entries, 0 to 774\n",
      "Data columns (total 35 columns):\n",
      " #   Column                        Non-Null Count  Dtype  \n",
      "---  ------                        --------------  -----  \n",
      " 0   index                         775 non-null    int64  \n",
      " 1   experience_level              775 non-null    int64  \n",
      " 2   remote                        775 non-null    bool   \n",
      " 3   from                          775 non-null    float64\n",
      " 4   to                            775 non-null    float64\n",
      " 5   AI                            775 non-null    float64\n",
      " 6   AWS                           775 non-null    float64\n",
      " 7   Analytical Thinking           775 non-null    float64\n",
      " 8   BI                            775 non-null    float64\n",
      " 9   Big Data                      775 non-null    float64\n",
      " 10  DWH                           775 non-null    float64\n",
      " 11  Data                          775 non-null    float64\n",
      " 12  Databases                     775 non-null    float64\n",
      " 13  ETL                           775 non-null    float64\n",
      " 14  ETL tools                     775 non-null    float64\n",
      " 15  Machine Learning              775 non-null    float64\n",
      " 16  Oracle                        775 non-null    float64\n",
      " 17  PL/SQL                        775 non-null    float64\n",
      " 18  Power BI                      775 non-null    float64\n",
      " 19  PySpark                       775 non-null    float64\n",
      " 20  Python                        775 non-null    float64\n",
      " 21  SQL                           775 non-null    float64\n",
      " 22  Spark                         775 non-null    float64\n",
      " 23  T-SQL                         775 non-null    float64\n",
      " 24  Tableau                       775 non-null    float64\n",
      " 25  type_mandate_contract         775 non-null    int64  \n",
      " 26  type_permanent                775 non-null    int64  \n",
      " 27  workplace_type_partly_remote  775 non-null    int64  \n",
      " 28  workplace_type_remote         775 non-null    int64  \n",
      " 29  country_code_DE               775 non-null    int64  \n",
      " 30  country_code_EE               775 non-null    int64  \n",
      " 31  country_code_MT               775 non-null    int64  \n",
      " 32  country_code_PL               775 non-null    int64  \n",
      " 33  country_code_UA               775 non-null    int64  \n",
      " 34  avg_company_size              775 non-null    float64\n",
      "dtypes: bool(1), float64(23), int64(11)\n",
      "memory usage: 206.7 KB\n"
     ]
    }
   ],
   "source": [
    "#extract rows with salary information\n",
    "df = df[df['to'].notna()].reset_index()\n",
    "df.info()"
   ]
  },
  {
   "cell_type": "raw",
   "id": "e3f2b879",
   "metadata": {},
   "source": [
    "# BUILDING REGRESSION MODEL"
   ]
  },
  {
   "cell_type": "code",
   "execution_count": 25,
   "id": "6bab0174",
   "metadata": {},
   "outputs": [],
   "source": [
    "X = df.drop(columns=['from','to'])\n",
    "y = df['from']"
   ]
  },
  {
   "cell_type": "code",
   "execution_count": 26,
   "id": "9838574c",
   "metadata": {},
   "outputs": [],
   "source": [
    "X_train, X_test, y_train, y_test = train_test_split(X, y, test_size=0.2)"
   ]
  },
  {
   "cell_type": "markdown",
   "id": "2949c68f",
   "metadata": {},
   "source": [
    "## K-Nearest Neighbour(KNN)"
   ]
  },
  {
   "cell_type": "code",
   "execution_count": 30,
   "id": "c7ef569b",
   "metadata": {},
   "outputs": [
    {
     "name": "stdout",
     "output_type": "stream",
     "text": [
      "Best Model: KNeighborsRegressor(n_neighbors=3, weights='distance')\n",
      "Best Parameters: {'n_neighbors': 3, 'weights': 'distance'}\n",
      "Mean Absolute Error: 0.0\n"
     ]
    }
   ],
   "source": [
    "from sklearn.neighbors import KNeighborsRegressor\n",
    "# Initialize the KNeighborsRegressor model\n",
    "model = KNeighborsRegressor()\n",
    "\n",
    "# Define the parameter grid for the grid search\n",
    "param_grid = {\n",
    "    'n_neighbors': range(1, 7, 2),\n",
    "    'weights': ['uniform', 'distance']\n",
    "}\n",
    "\n",
    "# Create a GridSearchCV object\n",
    "gs = GridSearchCV(model, param_grid, cv=10, scoring='neg_mean_absolute_error')\n",
    "\n",
    "# Fit the GridSearchCV object to the training data\n",
    "gs.fit(X_train, y_train)\n",
    "\n",
    "# Get the best model with tuned hyperparameters\n",
    "best_model = gs.best_estimator_\n",
    "\n",
    "# Predict on the test set\n",
    "y_pred = best_model.predict(X_train)\n",
    "\n",
    "# Calculate mean absolute error (MAE)\n",
    "mae = mean_absolute_error(y_train, y_pred)\n",
    "print(\"Best Model:\", best_model)\n",
    "print(\"Best Parameters:\", gs.best_params_)\n",
    "print(\"Mean Absolute Error:\", mae)"
   ]
  },
  {
   "cell_type": "code",
   "execution_count": 32,
   "id": "225eb525",
   "metadata": {},
   "outputs": [
    {
     "name": "stdout",
     "output_type": "stream",
     "text": [
      "Regression Model Evaluation:\n",
      "===========================\n",
      "Mean Absolute Error (MAE): 1034.21\n",
      "Mean Squared Error (MSE): 5576553.31\n",
      "Root Mean Squared Error (RMSE): 2361.47\n",
      "R-squared (R2): 0.88\n"
     ]
    }
   ],
   "source": [
    "evaluate_regression_model(best_model, X_test, y_test)"
   ]
  },
  {
   "cell_type": "markdown",
   "id": "5eb0b79e",
   "metadata": {},
   "source": [
    "## Random Forest"
   ]
  },
  {
   "cell_type": "code",
   "execution_count": 36,
   "id": "6190bf07",
   "metadata": {},
   "outputs": [
    {
     "name": "stdout",
     "output_type": "stream",
     "text": [
      "Best Model: RandomForestRegressor(max_depth=20, random_state=42)\n",
      "Best Parameters: {'max_depth': 20, 'min_samples_split': 2, 'n_estimators': 100}\n",
      "Mean Absolute Error: 359.70374193548383\n"
     ]
    }
   ],
   "source": [
    "# Initialize the RandomForestRegressor model\n",
    "model = RandomForestRegressor(random_state=42)\n",
    "\n",
    "# Define the parameter grid for the grid search\n",
    "param_grid = {\n",
    "    'n_estimators': [50, 100, 150],\n",
    "    'max_depth': [None, 10, 20],\n",
    "    'min_samples_split': [2, 5, 10]\n",
    "}\n",
    "\n",
    "# Create a GridSearchCV object\n",
    "gs = GridSearchCV(model, param_grid, cv=5, scoring='neg_mean_absolute_error')\n",
    "\n",
    "# Fit the GridSearchCV object to the training data\n",
    "gs.fit(X_train, y_train)\n",
    "\n",
    "# Get the best model with tuned hyperparameters\n",
    "best_model = gs.best_estimator_\n",
    "\n",
    "# Predict on the test set\n",
    "y_pred = best_model.predict(X_test)\n",
    "\n",
    "# Calculate mean absolute error (MAE)\n",
    "mae = mean_absolute_error(y_test, y_pred)\n",
    "print(\"Best Model:\", best_model)\n",
    "print(\"Best Parameters:\", gs.best_params_)\n",
    "print(\"Mean Absolute Error:\", mae)"
   ]
  },
  {
   "cell_type": "code",
   "execution_count": 37,
   "id": "d500d27d",
   "metadata": {},
   "outputs": [
    {
     "name": "stdout",
     "output_type": "stream",
     "text": [
      "Regression Model Evaluation:\n",
      "===========================\n",
      "Mean Absolute Error (MAE): 359.70\n",
      "Mean Squared Error (MSE): 1387206.29\n",
      "Root Mean Squared Error (RMSE): 1177.80\n",
      "R-squared (R2): 0.97\n"
     ]
    }
   ],
   "source": [
    "evaluate_regression_model(best_model, X_test, y_test)"
   ]
  },
  {
   "cell_type": "code",
   "execution_count": 39,
   "id": "51fb2b7a",
   "metadata": {},
   "outputs": [
    {
     "data": {
      "text/plain": [
       "['trained_random_forest_model.joblib']"
      ]
     },
     "execution_count": 39,
     "metadata": {},
     "output_type": "execute_result"
    }
   ],
   "source": [
    "joblib.dump(model, 'trained_random_forest_model.joblib')"
   ]
  },
  {
   "cell_type": "code",
   "execution_count": null,
   "id": "da116dee",
   "metadata": {},
   "outputs": [],
   "source": [
    "#loaded_model = joblib.load('trained_model.joblib')"
   ]
  },
  {
   "cell_type": "code",
   "execution_count": null,
   "id": "71e58bf0",
   "metadata": {},
   "outputs": [],
   "source": []
  },
  {
   "cell_type": "code",
   "execution_count": null,
   "id": "d31d2f29",
   "metadata": {},
   "outputs": [],
   "source": []
  }
 ],
 "metadata": {
  "kernelspec": {
   "display_name": "Python 3 (ipykernel)",
   "language": "python",
   "name": "python3"
  },
  "language_info": {
   "codemirror_mode": {
    "name": "ipython",
    "version": 3
   },
   "file_extension": ".py",
   "mimetype": "text/x-python",
   "name": "python",
   "nbconvert_exporter": "python",
   "pygments_lexer": "ipython3",
   "version": "3.11.3"
  }
 },
 "nbformat": 4,
 "nbformat_minor": 5
}
